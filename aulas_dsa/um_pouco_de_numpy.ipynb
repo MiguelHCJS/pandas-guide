{
 "cells": [
  {
   "cell_type": "code",
   "execution_count": 1,
   "metadata": {},
   "outputs": [],
   "source": [
    "import numpy as np"
   ]
  },
  {
   "cell_type": "code",
   "execution_count": 2,
   "metadata": {},
   "outputs": [
    {
     "data": {
      "text/plain": [
       "'1.26.4'"
      ]
     },
     "execution_count": 2,
     "metadata": {},
     "output_type": "execute_result"
    }
   ],
   "source": [
    "np.__version__"
   ]
  },
  {
   "cell_type": "code",
   "execution_count": 9,
   "metadata": {},
   "outputs": [],
   "source": [
    "arr1: np.array = np.array([2, 3, 4, 5, 5])\n",
    "arr2: np.array = np.arange(5)"
   ]
  },
  {
   "cell_type": "code",
   "execution_count": 4,
   "metadata": {},
   "outputs": [
    {
     "data": {
      "text/plain": [
       "(numpy.ndarray, (5,))"
      ]
     },
     "execution_count": 4,
     "metadata": {},
     "output_type": "execute_result"
    }
   ],
   "source": [
    "type(arr1), arr1.shape"
   ]
  },
  {
   "cell_type": "code",
   "execution_count": 10,
   "metadata": {},
   "outputs": [
    {
     "name": "stdout",
     "output_type": "stream",
     "text": [
      "[0. 0. 0. 0. 0.]\n"
     ]
    }
   ],
   "source": [
    "arr3 = np.zeros(5)\n",
    "print(arr3)"
   ]
  },
  {
   "cell_type": "code",
   "execution_count": 11,
   "metadata": {},
   "outputs": [
    {
     "name": "stdout",
     "output_type": "stream",
     "text": [
      "\n",
      "Soma de todos os elementos: 19\n",
      "O protudo dos elementos: 600\n",
      "Soma acumulada: [ 2  5  9 14 19]\n",
      "Adição entre array: [2 4 6 8 9]\n",
      "\n"
     ]
    }
   ],
   "source": [
    "print(f\"\"\"\n",
    "Soma de todos os elementos: {np.sum(arr1)}\n",
    "O protudo dos elementos: {np.prod(arr1)}\n",
    "Soma acumulada: {np.cumsum(arr1)}\n",
    "Adição entre array: {np.add(arr1, arr2)}\n",
    "\"\"\")"
   ]
  },
  {
   "cell_type": "code",
   "execution_count": 23,
   "metadata": {},
   "outputs": [
    {
     "name": "stdout",
     "output_type": "stream",
     "text": [
      "\n",
      "Dimensões da primeira matriz: (2, 2)\n",
      "[[2 4]\n",
      " [5 5]]\n",
      "\n",
      "Dimensõesda segunda matriz: (2, 2)\n",
      "[[3 2]\n",
      " [4 4]]\n",
      "\n",
      "[[22 20]\n",
      " [35 30]]\n"
     ]
    }
   ],
   "source": [
    "matriz1 = np.array([[2, 4], [5, 5]])\n",
    "matriz2 = np.array([[3, 2], [4, 4]])\n",
    "print(f\"\"\"\n",
    "Dimensões da primeira matriz: {matriz1.shape}\n",
    "{matriz1}\n",
    "\n",
    "Dimensõesda segunda matriz: {matriz2.shape}\n",
    "{matriz2}\n",
    "\"\"\")\n",
    "\n",
    "print(f'{np.dot(matriz1, matriz2)}')"
   ]
  }
 ],
 "metadata": {
  "kernelspec": {
   "display_name": "pandas-guide-AMuO7woo-py3.12",
   "language": "python",
   "name": "python3"
  },
  "language_info": {
   "codemirror_mode": {
    "name": "ipython",
    "version": 3
   },
   "file_extension": ".py",
   "mimetype": "text/x-python",
   "name": "python",
   "nbconvert_exporter": "python",
   "pygments_lexer": "ipython3",
   "version": "3.12.2"
  }
 },
 "nbformat": 4,
 "nbformat_minor": 2
}
