{
 "cells": [
  {
   "cell_type": "code",
   "execution_count": 1,
   "metadata": {},
   "outputs": [
    {
     "name": "stderr",
     "output_type": "stream",
     "text": [
      "/tmp/ipykernel_19063/4080736814.py:1: DeprecationWarning: \n",
      "Pyarrow will become a required dependency of pandas in the next major release of pandas (pandas 3.0),\n",
      "(to allow more performant data types, such as the Arrow string type, and better interoperability with other libraries)\n",
      "but was not found to be installed on your system.\n",
      "If this would cause problems for you,\n",
      "please provide us feedback at https://github.com/pandas-dev/pandas/issues/54466\n",
      "        \n",
      "  import pandas as pd\n"
     ]
    }
   ],
   "source": [
    "import pandas as pd"
   ]
  },
  {
   "cell_type": "code",
   "execution_count": null,
   "metadata": {},
   "outputs": [],
   "source": [
    "import re\n",
    "\n",
    "palavra_secreta = 'carrossel'\n",
    "\n",
    "print(\"\"\"\"\n",
    "##################################\n",
    "    Bem vindo ao jogo da forca\n",
    "##################################\n",
    "\"\"\")\n",
    "\n",
    "letras_erradas = []\n",
    "letras_corretas = []\n",
    "tentativas = 1\n",
    "\n",
    "while tentativas < 6:\n",
    "    print(f'Quantidade de tentativas: {tentativas}')\n",
    "\n",
    "    palavra_oculto = len(palavra_secreta) * '_'\n",
    "    print(f'{palavra_oculto}\\n\\n')\n",
    "\n",
    "    \n",
    "    letra = input('Sugira uma letra :D')\n",
    "    \n",
    "    if letra in palavra_secreta:\n",
    "        palavra = re.findall(letra, palavra_secreta)\n",
    "        print(f'Correto contem a letra: {letras_corretas}')\n",
    "    else:\n",
    "        print(f'Correto contem a letra: {letras_corretas}')\n",
    "        letras_erradas.append(letra)\n",
    "        \n",
    "        tentativas += 1"
   ]
  }
 ],
 "metadata": {
  "kernelspec": {
   "display_name": "pandas-guide-AMuO7woo-py3.12",
   "language": "python",
   "name": "python3"
  },
  "language_info": {
   "codemirror_mode": {
    "name": "ipython",
    "version": 3
   },
   "file_extension": ".py",
   "mimetype": "text/x-python",
   "name": "python",
   "nbconvert_exporter": "python",
   "pygments_lexer": "ipython3",
   "version": "3.12.2"
  }
 },
 "nbformat": 4,
 "nbformat_minor": 2
}
