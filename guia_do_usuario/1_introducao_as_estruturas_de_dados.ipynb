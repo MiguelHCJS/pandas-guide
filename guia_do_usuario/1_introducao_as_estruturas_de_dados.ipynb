{
 "cells": [
  {
   "cell_type": "code",
   "execution_count": 200,
   "metadata": {},
   "outputs": [],
   "source": [
    "import pandas as pd\n",
    "from rich import print"
   ]
  },
  {
   "cell_type": "code",
   "execution_count": null,
   "metadata": {},
   "outputs": [],
   "source": [
    "df1 = pd.DataFrame({\n",
    "        \"Protocolo\": [\"3006\", \"2400\", \"2566\"],\n",
    "        \"DDD\": [\"82\", \"11\", \"15\"],\n",
    "        \"qtde\": [2, 4, 4]\n",
    "}).to_excel('teste1.xlsx', index=False),\n",
    "\n",
    "df2 = pd.DataFrame({\n",
    "        \"Protocolo\": [\"5333\", \"6788\"],\n",
    "        \"DDD\": [\"53\", \"12\"],\n",
    "        \"qtde\": [6, 2]\n",
    "}).to_excel('teste2.xlsx', index=False),\n",
    "\n",
    "df3 = pd.DataFrame({\n",
    "        \"Protocolo\": [\"1111\", \"2222\"],\n",
    "        \"DDD\": [\"53\", \"12\"],\n",
    "        \"qtde\": [2, 2]\n",
    "}).to_excel('teste3.xlsx', index=False)"
   ]
  },
  {
   "cell_type": "code",
   "execution_count": 203,
   "metadata": {},
   "outputs": [
    {
     "data": {
      "text/html": [
       "<pre style=\"white-space:pre;overflow-x:auto;line-height:normal;font-family:Menlo,'DejaVu Sans Mono',consolas,'Courier New',monospace\">   Protocolo  DDD  Quantidade\n",
       "<span style=\"color: #008080; text-decoration-color: #008080; font-weight: bold\">0</span>       <span style=\"color: #008080; text-decoration-color: #008080; font-weight: bold\">3006</span>   <span style=\"color: #008080; text-decoration-color: #008080; font-weight: bold\">82</span>           <span style=\"color: #008080; text-decoration-color: #008080; font-weight: bold\">2</span>\n",
       "<span style=\"color: #008080; text-decoration-color: #008080; font-weight: bold\">1</span>       <span style=\"color: #008080; text-decoration-color: #008080; font-weight: bold\">2400</span>   <span style=\"color: #008080; text-decoration-color: #008080; font-weight: bold\">11</span>           <span style=\"color: #008080; text-decoration-color: #008080; font-weight: bold\">4</span>\n",
       "<span style=\"color: #008080; text-decoration-color: #008080; font-weight: bold\">2</span>       <span style=\"color: #008080; text-decoration-color: #008080; font-weight: bold\">2566</span>   <span style=\"color: #008080; text-decoration-color: #008080; font-weight: bold\">15</span>           <span style=\"color: #008080; text-decoration-color: #008080; font-weight: bold\">4</span>\n",
       "<span style=\"color: #008080; text-decoration-color: #008080; font-weight: bold\">3</span>       <span style=\"color: #008080; text-decoration-color: #008080; font-weight: bold\">5333</span>   <span style=\"color: #008080; text-decoration-color: #008080; font-weight: bold\">53</span>           <span style=\"color: #008080; text-decoration-color: #008080; font-weight: bold\">6</span>\n",
       "<span style=\"color: #008080; text-decoration-color: #008080; font-weight: bold\">4</span>       <span style=\"color: #008080; text-decoration-color: #008080; font-weight: bold\">6788</span>   <span style=\"color: #008080; text-decoration-color: #008080; font-weight: bold\">12</span>           <span style=\"color: #008080; text-decoration-color: #008080; font-weight: bold\">2</span>\n",
       "</pre>\n"
      ],
      "text/plain": [
       "   Protocolo  DDD  Quantidade\n",
       "\u001b[1;36m0\u001b[0m       \u001b[1;36m3006\u001b[0m   \u001b[1;36m82\u001b[0m           \u001b[1;36m2\u001b[0m\n",
       "\u001b[1;36m1\u001b[0m       \u001b[1;36m2400\u001b[0m   \u001b[1;36m11\u001b[0m           \u001b[1;36m4\u001b[0m\n",
       "\u001b[1;36m2\u001b[0m       \u001b[1;36m2566\u001b[0m   \u001b[1;36m15\u001b[0m           \u001b[1;36m4\u001b[0m\n",
       "\u001b[1;36m3\u001b[0m       \u001b[1;36m5333\u001b[0m   \u001b[1;36m53\u001b[0m           \u001b[1;36m6\u001b[0m\n",
       "\u001b[1;36m4\u001b[0m       \u001b[1;36m6788\u001b[0m   \u001b[1;36m12\u001b[0m           \u001b[1;36m2\u001b[0m\n"
      ]
     },
     "metadata": {},
     "output_type": "display_data"
    },
    {
     "data": {
      "text/html": [
       "<pre style=\"white-space:pre;overflow-x:auto;line-height:normal;font-family:Menlo,'DejaVu Sans Mono',consolas,'Courier New',monospace\">Quantidade de linhas: <span style=\"color: #008080; text-decoration-color: #008080; font-weight: bold\">18</span>\n",
       "</pre>\n"
      ],
      "text/plain": [
       "Quantidade de linhas: \u001b[1;36m18\u001b[0m\n"
      ]
     },
     "metadata": {},
     "output_type": "display_data"
    }
   ],
   "source": [
    "df1 = pd.read_excel('tiposmigracao1.xlsx') # Estes sao os iterrows do dataframe retornado do tabula-py\n",
    "df2 = pd.read_excel('tiposmigracao2.xlsx')\n",
    "df3 = pd.read_excel('tiposmigracao3.xlsx')\n",
    "\"\"\"\n",
    "Um data frame, concatenar se separados\n",
    "Ja que tera uma busca recursiva em múltiplos arquivos\n",
    "Agrupar e concatenar todos, dessa maneira nenhum\n",
    "vai ficar fora, possibilitando a soma total de migrações\n",
    "\"\"\"\n",
    "dataframes_tabula_py = [\n",
    "    df1,\n",
    "    df2,\n",
    "    df3,\n",
    "]\n",
    "\n",
    "df_qtd = pd.concat(dataframes_tabula_py, ignore_index=True)\n",
    "df_qtd = df_qtd.rename(columns={\"qtde\": \"Quantidade\"})\n",
    "df_qtd = df_qtd[(df_qtd['Protocolo'] != 1111) & (df_qtd['Protocolo'] != 2222)]\n",
    "\n",
    "print(df_qtd)\n",
    "qtd_linhas = sum(df_qtd['Quantidade']) # Simples quantidade\n",
    "print(f'Quantidade de linhas: {qtd_linhas}')"
   ]
  },
  {
   "cell_type": "code",
   "execution_count": 137,
   "metadata": {},
   "outputs": [],
   "source": [
    "df4 = pd.DataFrame({\n",
    "    \"protocolo\": [\"3006\", \"2400\", \"2566\"],\n",
    "    \"ddd\": [\"82\", \"11\", \"15\"],\n",
    "    \"numeros\": [[\"90798442\", \"91798742\"], [\"52994442\", \"98894442\", \"53356777\", \"77478899\"], [\"52994442\", \"98894442\", \"53356777\", \"77478899\"]],\n",
    "})\n",
    "df4 = df4.explode('numeros').to_excel('lista_numeros1.xlsx', index=False)\n",
    "\n",
    "df5 = pd.DataFrame({\n",
    "    \"protocolo\": [\"5333\", \"6788\"],\n",
    "    \"ddd\": [\"53\", \"12\"],\n",
    "    \"numeros\": [[\"91059242\", \"28798442\", \"90798442\", \"91798742\", \"53356777\", \"77478899\"], [\"52994442\", \"98894442\"]]\n",
    "})\n",
    "df5 = df5.explode('numeros').to_excel('lista_numeros2.xlsx', index=False)\n",
    "\n",
    "df6 = pd.DataFrame({\n",
    "    \"protocolo\": [\"1122\", \"9900\"],\n",
    "    \"ddd\": [\"81\", \"55\"],\n",
    "    \"numeros\": [[\"90798442\", \"91798742\"], [\"91059242\", \"28798442\", \"53356777\", \"77478899\"]]\n",
    "})\n",
    "df6 = df6.explode('numeros').to_excel('lista_numeros3.xlsx', index=False)"
   ]
  },
  {
   "cell_type": "code",
   "execution_count": 197,
   "metadata": {},
   "outputs": [],
   "source": [
    "df4 = pd.read_excel('lista_numeros1.xlsx')\n",
    "df5 = pd.read_excel('lista_numeros2.xlsx')\n",
    "df6 = pd.read_excel('lista_numeros3.xlsx')"
   ]
  },
  {
   "cell_type": "code",
   "execution_count": 205,
   "metadata": {},
   "outputs": [
    {
     "data": {
      "text/html": [
       "<div>\n",
       "<style scoped>\n",
       "    .dataframe tbody tr th:only-of-type {\n",
       "        vertical-align: middle;\n",
       "    }\n",
       "\n",
       "    .dataframe tbody tr th {\n",
       "        vertical-align: top;\n",
       "    }\n",
       "\n",
       "    .dataframe thead th {\n",
       "        text-align: right;\n",
       "    }\n",
       "</style>\n",
       "<table border=\"1\" class=\"dataframe\">\n",
       "  <thead>\n",
       "    <tr style=\"text-align: right;\">\n",
       "      <th></th>\n",
       "      <th>protocolo</th>\n",
       "      <th>ddd</th>\n",
       "      <th>numeros</th>\n",
       "      <th>ddd_numeros</th>\n",
       "      <th>status</th>\n",
       "    </tr>\n",
       "  </thead>\n",
       "  <tbody>\n",
       "    <tr>\n",
       "      <th>0</th>\n",
       "      <td>3006</td>\n",
       "      <td>82</td>\n",
       "      <td>90798442</td>\n",
       "      <td>8290798442</td>\n",
       "      <td></td>\n",
       "    </tr>\n",
       "    <tr>\n",
       "      <th>1</th>\n",
       "      <td>3006</td>\n",
       "      <td>82</td>\n",
       "      <td>91798742</td>\n",
       "      <td>8291798742</td>\n",
       "      <td></td>\n",
       "    </tr>\n",
       "    <tr>\n",
       "      <th>2</th>\n",
       "      <td>2400</td>\n",
       "      <td>11</td>\n",
       "      <td>52994442</td>\n",
       "      <td>1152994442</td>\n",
       "      <td></td>\n",
       "    </tr>\n",
       "    <tr>\n",
       "      <th>3</th>\n",
       "      <td>2400</td>\n",
       "      <td>11</td>\n",
       "      <td>98894442</td>\n",
       "      <td>1198894442</td>\n",
       "      <td></td>\n",
       "    </tr>\n",
       "    <tr>\n",
       "      <th>4</th>\n",
       "      <td>2400</td>\n",
       "      <td>11</td>\n",
       "      <td>53356777</td>\n",
       "      <td>1153356777</td>\n",
       "      <td></td>\n",
       "    </tr>\n",
       "    <tr>\n",
       "      <th>5</th>\n",
       "      <td>2400</td>\n",
       "      <td>11</td>\n",
       "      <td>77478899</td>\n",
       "      <td>1177478899</td>\n",
       "      <td></td>\n",
       "    </tr>\n",
       "    <tr>\n",
       "      <th>6</th>\n",
       "      <td>2566</td>\n",
       "      <td>15</td>\n",
       "      <td>52994442</td>\n",
       "      <td>1552994442</td>\n",
       "      <td></td>\n",
       "    </tr>\n",
       "    <tr>\n",
       "      <th>7</th>\n",
       "      <td>2566</td>\n",
       "      <td>15</td>\n",
       "      <td>98894442</td>\n",
       "      <td>1598894442</td>\n",
       "      <td></td>\n",
       "    </tr>\n",
       "    <tr>\n",
       "      <th>8</th>\n",
       "      <td>2566</td>\n",
       "      <td>15</td>\n",
       "      <td>53356777</td>\n",
       "      <td>1553356777</td>\n",
       "      <td></td>\n",
       "    </tr>\n",
       "    <tr>\n",
       "      <th>9</th>\n",
       "      <td>2566</td>\n",
       "      <td>15</td>\n",
       "      <td>77478899</td>\n",
       "      <td>1577478899</td>\n",
       "      <td></td>\n",
       "    </tr>\n",
       "    <tr>\n",
       "      <th>10</th>\n",
       "      <td>5333</td>\n",
       "      <td>53</td>\n",
       "      <td>91059242</td>\n",
       "      <td>5391059242</td>\n",
       "      <td></td>\n",
       "    </tr>\n",
       "    <tr>\n",
       "      <th>11</th>\n",
       "      <td>5333</td>\n",
       "      <td>53</td>\n",
       "      <td>28798442</td>\n",
       "      <td>5328798442</td>\n",
       "      <td></td>\n",
       "    </tr>\n",
       "    <tr>\n",
       "      <th>12</th>\n",
       "      <td>5333</td>\n",
       "      <td>53</td>\n",
       "      <td>90798442</td>\n",
       "      <td>5390798442</td>\n",
       "      <td></td>\n",
       "    </tr>\n",
       "    <tr>\n",
       "      <th>13</th>\n",
       "      <td>5333</td>\n",
       "      <td>53</td>\n",
       "      <td>91798742</td>\n",
       "      <td>5391798742</td>\n",
       "      <td></td>\n",
       "    </tr>\n",
       "    <tr>\n",
       "      <th>14</th>\n",
       "      <td>5333</td>\n",
       "      <td>53</td>\n",
       "      <td>53356777</td>\n",
       "      <td>5353356777</td>\n",
       "      <td></td>\n",
       "    </tr>\n",
       "    <tr>\n",
       "      <th>15</th>\n",
       "      <td>5333</td>\n",
       "      <td>53</td>\n",
       "      <td>77478899</td>\n",
       "      <td>5377478899</td>\n",
       "      <td></td>\n",
       "    </tr>\n",
       "    <tr>\n",
       "      <th>16</th>\n",
       "      <td>6788</td>\n",
       "      <td>12</td>\n",
       "      <td>52994442</td>\n",
       "      <td>1252994442</td>\n",
       "      <td></td>\n",
       "    </tr>\n",
       "    <tr>\n",
       "      <th>17</th>\n",
       "      <td>6788</td>\n",
       "      <td>12</td>\n",
       "      <td>98894442</td>\n",
       "      <td>1298894442</td>\n",
       "      <td></td>\n",
       "    </tr>\n",
       "  </tbody>\n",
       "</table>\n",
       "</div>"
      ],
      "text/plain": [
       "    protocolo  ddd   numeros ddd_numeros status\n",
       "0        3006   82  90798442  8290798442       \n",
       "1        3006   82  91798742  8291798742       \n",
       "2        2400   11  52994442  1152994442       \n",
       "3        2400   11  98894442  1198894442       \n",
       "4        2400   11  53356777  1153356777       \n",
       "5        2400   11  77478899  1177478899       \n",
       "6        2566   15  52994442  1552994442       \n",
       "7        2566   15  98894442  1598894442       \n",
       "8        2566   15  53356777  1553356777       \n",
       "9        2566   15  77478899  1577478899       \n",
       "10       5333   53  91059242  5391059242       \n",
       "11       5333   53  28798442  5328798442       \n",
       "12       5333   53  90798442  5390798442       \n",
       "13       5333   53  91798742  5391798742       \n",
       "14       5333   53  53356777  5353356777       \n",
       "15       5333   53  77478899  5377478899       \n",
       "16       6788   12  52994442  1252994442       \n",
       "17       6788   12  98894442  1298894442       "
      ]
     },
     "execution_count": 205,
     "metadata": {},
     "output_type": "execute_result"
    }
   ],
   "source": [
    "lista_de_dfs = [\n",
    "    df4,\n",
    "    df5,\n",
    "    df6\n",
    "]\n",
    "\n",
    "df = pd.concat(lista_de_dfs, ignore_index=True)\n",
    "df = df[df['protocolo'].isin(df_qtd['Protocolo'])]\n",
    "for i in range(len(df)):\n",
    "    df.loc[i, 'ddd_numeros'] = str(df.loc[i, 'ddd']) + str(df.loc[i, 'numeros'])\n",
    "\n",
    "df['status'] = df['status'] = ''\n",
    "df"
   ]
  },
  {
   "cell_type": "code",
   "execution_count": 208,
   "metadata": {},
   "outputs": [],
   "source": [
    "for i in range(len(df)):\n",
    "    if i % 3 == 0:\n",
    "        df.loc[i, 'status'] = 'OK'"
   ]
  },
  {
   "cell_type": "code",
   "execution_count": 211,
   "metadata": {},
   "outputs": [
    {
     "data": {
      "text/html": [
       "<pre style=\"white-space:pre;overflow-x:auto;line-height:normal;font-family:Menlo,'DejaVu Sans Mono',consolas,'Courier New',monospace\">Tratativa com protocolo            <span style=\"color: #008080; text-decoration-color: #008080; font-weight: bold\">3006</span>\n",
       "ddd                    <span style=\"color: #008080; text-decoration-color: #008080; font-weight: bold\">82</span>\n",
       "numeros          <span style=\"color: #008080; text-decoration-color: #008080; font-weight: bold\">90798442</span>\n",
       "ddd_numeros    <span style=\"color: #008080; text-decoration-color: #008080; font-weight: bold\">8290798442</span>\n",
       "status                 OK\n",
       "Name: <span style=\"color: #008080; text-decoration-color: #008080; font-weight: bold\">0</span>, dtype: object\n",
       "</pre>\n"
      ],
      "text/plain": [
       "Tratativa com protocolo            \u001b[1;36m3006\u001b[0m\n",
       "ddd                    \u001b[1;36m82\u001b[0m\n",
       "numeros          \u001b[1;36m90798442\u001b[0m\n",
       "ddd_numeros    \u001b[1;36m8290798442\u001b[0m\n",
       "status                 OK\n",
       "Name: \u001b[1;36m0\u001b[0m, dtype: object\n"
      ]
     },
     "metadata": {},
     "output_type": "display_data"
    },
    {
     "data": {
      "text/html": [
       "<pre style=\"white-space:pre;overflow-x:auto;line-height:normal;font-family:Menlo,'DejaVu Sans Mono',consolas,'Courier New',monospace\">Tratativa com protocolo            <span style=\"color: #008080; text-decoration-color: #008080; font-weight: bold\">3006</span>\n",
       "ddd                    <span style=\"color: #008080; text-decoration-color: #008080; font-weight: bold\">82</span>\n",
       "numeros          <span style=\"color: #008080; text-decoration-color: #008080; font-weight: bold\">91798742</span>\n",
       "ddd_numeros    <span style=\"color: #008080; text-decoration-color: #008080; font-weight: bold\">8291798742</span>\n",
       "status                 OK\n",
       "Name: <span style=\"color: #008080; text-decoration-color: #008080; font-weight: bold\">1</span>, dtype: object\n",
       "</pre>\n"
      ],
      "text/plain": [
       "Tratativa com protocolo            \u001b[1;36m3006\u001b[0m\n",
       "ddd                    \u001b[1;36m82\u001b[0m\n",
       "numeros          \u001b[1;36m91798742\u001b[0m\n",
       "ddd_numeros    \u001b[1;36m8291798742\u001b[0m\n",
       "status                 OK\n",
       "Name: \u001b[1;36m1\u001b[0m, dtype: object\n"
      ]
     },
     "metadata": {},
     "output_type": "display_data"
    },
    {
     "data": {
      "text/html": [
       "<pre style=\"white-space:pre;overflow-x:auto;line-height:normal;font-family:Menlo,'DejaVu Sans Mono',consolas,'Courier New',monospace\">Tratativa com protocolo            <span style=\"color: #008080; text-decoration-color: #008080; font-weight: bold\">2400</span>\n",
       "ddd                    <span style=\"color: #008080; text-decoration-color: #008080; font-weight: bold\">11</span>\n",
       "numeros          <span style=\"color: #008080; text-decoration-color: #008080; font-weight: bold\">52994442</span>\n",
       "ddd_numeros    <span style=\"color: #008080; text-decoration-color: #008080; font-weight: bold\">1152994442</span>\n",
       "status                 OK\n",
       "Name: <span style=\"color: #008080; text-decoration-color: #008080; font-weight: bold\">2</span>, dtype: object\n",
       "</pre>\n"
      ],
      "text/plain": [
       "Tratativa com protocolo            \u001b[1;36m2400\u001b[0m\n",
       "ddd                    \u001b[1;36m11\u001b[0m\n",
       "numeros          \u001b[1;36m52994442\u001b[0m\n",
       "ddd_numeros    \u001b[1;36m1152994442\u001b[0m\n",
       "status                 OK\n",
       "Name: \u001b[1;36m2\u001b[0m, dtype: object\n"
      ]
     },
     "metadata": {},
     "output_type": "display_data"
    },
    {
     "data": {
      "text/html": [
       "<pre style=\"white-space:pre;overflow-x:auto;line-height:normal;font-family:Menlo,'DejaVu Sans Mono',consolas,'Courier New',monospace\">Tratativa com protocolo            <span style=\"color: #008080; text-decoration-color: #008080; font-weight: bold\">2400</span>\n",
       "ddd                    <span style=\"color: #008080; text-decoration-color: #008080; font-weight: bold\">11</span>\n",
       "numeros          <span style=\"color: #008080; text-decoration-color: #008080; font-weight: bold\">98894442</span>\n",
       "ddd_numeros    <span style=\"color: #008080; text-decoration-color: #008080; font-weight: bold\">1198894442</span>\n",
       "status                 OK\n",
       "Name: <span style=\"color: #008080; text-decoration-color: #008080; font-weight: bold\">3</span>, dtype: object\n",
       "</pre>\n"
      ],
      "text/plain": [
       "Tratativa com protocolo            \u001b[1;36m2400\u001b[0m\n",
       "ddd                    \u001b[1;36m11\u001b[0m\n",
       "numeros          \u001b[1;36m98894442\u001b[0m\n",
       "ddd_numeros    \u001b[1;36m1198894442\u001b[0m\n",
       "status                 OK\n",
       "Name: \u001b[1;36m3\u001b[0m, dtype: object\n"
      ]
     },
     "metadata": {},
     "output_type": "display_data"
    },
    {
     "data": {
      "text/html": [
       "<pre style=\"white-space:pre;overflow-x:auto;line-height:normal;font-family:Menlo,'DejaVu Sans Mono',consolas,'Courier New',monospace\">Tratativa com protocolo            <span style=\"color: #008080; text-decoration-color: #008080; font-weight: bold\">2400</span>\n",
       "ddd                    <span style=\"color: #008080; text-decoration-color: #008080; font-weight: bold\">11</span>\n",
       "numeros          <span style=\"color: #008080; text-decoration-color: #008080; font-weight: bold\">53356777</span>\n",
       "ddd_numeros    <span style=\"color: #008080; text-decoration-color: #008080; font-weight: bold\">1153356777</span>\n",
       "status                   \n",
       "Name: <span style=\"color: #008080; text-decoration-color: #008080; font-weight: bold\">4</span>, dtype: object\n",
       "</pre>\n"
      ],
      "text/plain": [
       "Tratativa com protocolo            \u001b[1;36m2400\u001b[0m\n",
       "ddd                    \u001b[1;36m11\u001b[0m\n",
       "numeros          \u001b[1;36m53356777\u001b[0m\n",
       "ddd_numeros    \u001b[1;36m1153356777\u001b[0m\n",
       "status                   \n",
       "Name: \u001b[1;36m4\u001b[0m, dtype: object\n"
      ]
     },
     "metadata": {},
     "output_type": "display_data"
    },
    {
     "data": {
      "text/html": [
       "<pre style=\"white-space:pre;overflow-x:auto;line-height:normal;font-family:Menlo,'DejaVu Sans Mono',consolas,'Courier New',monospace\">Tratativa com protocolo            <span style=\"color: #008080; text-decoration-color: #008080; font-weight: bold\">2400</span>\n",
       "ddd                    <span style=\"color: #008080; text-decoration-color: #008080; font-weight: bold\">11</span>\n",
       "numeros          <span style=\"color: #008080; text-decoration-color: #008080; font-weight: bold\">77478899</span>\n",
       "ddd_numeros    <span style=\"color: #008080; text-decoration-color: #008080; font-weight: bold\">1177478899</span>\n",
       "status                   \n",
       "Name: <span style=\"color: #008080; text-decoration-color: #008080; font-weight: bold\">5</span>, dtype: object\n",
       "</pre>\n"
      ],
      "text/plain": [
       "Tratativa com protocolo            \u001b[1;36m2400\u001b[0m\n",
       "ddd                    \u001b[1;36m11\u001b[0m\n",
       "numeros          \u001b[1;36m77478899\u001b[0m\n",
       "ddd_numeros    \u001b[1;36m1177478899\u001b[0m\n",
       "status                   \n",
       "Name: \u001b[1;36m5\u001b[0m, dtype: object\n"
      ]
     },
     "metadata": {},
     "output_type": "display_data"
    },
    {
     "data": {
      "text/html": [
       "<pre style=\"white-space:pre;overflow-x:auto;line-height:normal;font-family:Menlo,'DejaVu Sans Mono',consolas,'Courier New',monospace\">Tratativa com protocolo            <span style=\"color: #008080; text-decoration-color: #008080; font-weight: bold\">2566</span>\n",
       "ddd                    <span style=\"color: #008080; text-decoration-color: #008080; font-weight: bold\">15</span>\n",
       "numeros          <span style=\"color: #008080; text-decoration-color: #008080; font-weight: bold\">52994442</span>\n",
       "ddd_numeros    <span style=\"color: #008080; text-decoration-color: #008080; font-weight: bold\">1552994442</span>\n",
       "status                 OK\n",
       "Name: <span style=\"color: #008080; text-decoration-color: #008080; font-weight: bold\">6</span>, dtype: object\n",
       "</pre>\n"
      ],
      "text/plain": [
       "Tratativa com protocolo            \u001b[1;36m2566\u001b[0m\n",
       "ddd                    \u001b[1;36m15\u001b[0m\n",
       "numeros          \u001b[1;36m52994442\u001b[0m\n",
       "ddd_numeros    \u001b[1;36m1552994442\u001b[0m\n",
       "status                 OK\n",
       "Name: \u001b[1;36m6\u001b[0m, dtype: object\n"
      ]
     },
     "metadata": {},
     "output_type": "display_data"
    },
    {
     "data": {
      "text/html": [
       "<pre style=\"white-space:pre;overflow-x:auto;line-height:normal;font-family:Menlo,'DejaVu Sans Mono',consolas,'Courier New',monospace\">Tratativa com protocolo            <span style=\"color: #008080; text-decoration-color: #008080; font-weight: bold\">2566</span>\n",
       "ddd                    <span style=\"color: #008080; text-decoration-color: #008080; font-weight: bold\">15</span>\n",
       "numeros          <span style=\"color: #008080; text-decoration-color: #008080; font-weight: bold\">98894442</span>\n",
       "ddd_numeros    <span style=\"color: #008080; text-decoration-color: #008080; font-weight: bold\">1598894442</span>\n",
       "status                   \n",
       "Name: <span style=\"color: #008080; text-decoration-color: #008080; font-weight: bold\">7</span>, dtype: object\n",
       "</pre>\n"
      ],
      "text/plain": [
       "Tratativa com protocolo            \u001b[1;36m2566\u001b[0m\n",
       "ddd                    \u001b[1;36m15\u001b[0m\n",
       "numeros          \u001b[1;36m98894442\u001b[0m\n",
       "ddd_numeros    \u001b[1;36m1598894442\u001b[0m\n",
       "status                   \n",
       "Name: \u001b[1;36m7\u001b[0m, dtype: object\n"
      ]
     },
     "metadata": {},
     "output_type": "display_data"
    }
   ],
   "source": [
    "df_validos = df[df['status'] == 'OK']\n",
    "df_validos\n",
    "\n",
    "for i in range(len(df_validos)):\n",
    "    print(f'Tratativa com {df.loc[i]}')"
   ]
  }
 ],
 "metadata": {
  "kernelspec": {
   "display_name": "pandas-guide-AMuO7woo-py3.12",
   "language": "python",
   "name": "python3"
  },
  "language_info": {
   "codemirror_mode": {
    "name": "ipython",
    "version": 3
   },
   "file_extension": ".py",
   "mimetype": "text/x-python",
   "name": "python",
   "nbconvert_exporter": "python",
   "pygments_lexer": "ipython3",
   "version": "3.12.2"
  }
 },
 "nbformat": 4,
 "nbformat_minor": 2
}
