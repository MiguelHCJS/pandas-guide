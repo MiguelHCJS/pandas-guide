{
 "cells": [
  {
   "cell_type": "code",
   "execution_count": 9,
   "metadata": {},
   "outputs": [],
   "source": [
    "import pandas as pd\n",
    "import numpy as np\n",
    "from rich import print, box\n",
    "from rich.console import Console\n",
    "from rich.table import Table\n",
    "\n",
    "console = Console()"
   ]
  },
  {
   "cell_type": "code",
   "execution_count": 19,
   "metadata": {},
   "outputs": [
    {
     "data": {
      "text/html": [
       "<pre style=\"white-space:pre;overflow-x:auto;line-height:normal;font-family:Menlo,'DejaVu Sans Mono',consolas,'Courier New',monospace\"><span style=\"color: #008080; text-decoration-color: #008080; font-weight: bold\">0</span>     <span style=\"color: #008080; text-decoration-color: #008080; font-weight: bold\">1</span>\n",
       "<span style=\"color: #008080; text-decoration-color: #008080; font-weight: bold\">1</span>     <span style=\"color: #008080; text-decoration-color: #008080; font-weight: bold\">2</span>\n",
       "<span style=\"color: #008080; text-decoration-color: #008080; font-weight: bold\">2</span>     <span style=\"color: #008080; text-decoration-color: #008080; font-weight: bold\">3</span>\n",
       "<span style=\"color: #008080; text-decoration-color: #008080; font-weight: bold\">3</span>     <span style=\"color: #008080; text-decoration-color: #008080; font-weight: bold\">4</span>\n",
       "<span style=\"color: #008080; text-decoration-color: #008080; font-weight: bold\">4</span>     <span style=\"color: #008080; text-decoration-color: #008080; font-weight: bold\">5</span>\n",
       "<span style=\"color: #008080; text-decoration-color: #008080; font-weight: bold\">5</span>     <span style=\"color: #008080; text-decoration-color: #008080; font-weight: bold\">6</span>\n",
       "<span style=\"color: #008080; text-decoration-color: #008080; font-weight: bold\">6</span>     <span style=\"color: #008080; text-decoration-color: #008080; font-weight: bold\">7</span>\n",
       "<span style=\"color: #008080; text-decoration-color: #008080; font-weight: bold\">7</span>     <span style=\"color: #008080; text-decoration-color: #008080; font-weight: bold\">8</span>\n",
       "<span style=\"color: #008080; text-decoration-color: #008080; font-weight: bold\">8</span>     <span style=\"color: #008080; text-decoration-color: #008080; font-weight: bold\">9</span>\n",
       "<span style=\"color: #008080; text-decoration-color: #008080; font-weight: bold\">9</span>    <span style=\"color: #008080; text-decoration-color: #008080; font-weight: bold\">10</span>\n",
       "dtype: int64\n",
       "</pre>\n"
      ],
      "text/plain": [
       "\u001b[1;36m0\u001b[0m     \u001b[1;36m1\u001b[0m\n",
       "\u001b[1;36m1\u001b[0m     \u001b[1;36m2\u001b[0m\n",
       "\u001b[1;36m2\u001b[0m     \u001b[1;36m3\u001b[0m\n",
       "\u001b[1;36m3\u001b[0m     \u001b[1;36m4\u001b[0m\n",
       "\u001b[1;36m4\u001b[0m     \u001b[1;36m5\u001b[0m\n",
       "\u001b[1;36m5\u001b[0m     \u001b[1;36m6\u001b[0m\n",
       "\u001b[1;36m6\u001b[0m     \u001b[1;36m7\u001b[0m\n",
       "\u001b[1;36m7\u001b[0m     \u001b[1;36m8\u001b[0m\n",
       "\u001b[1;36m8\u001b[0m     \u001b[1;36m9\u001b[0m\n",
       "\u001b[1;36m9\u001b[0m    \u001b[1;36m10\u001b[0m\n",
       "dtype: int64\n"
      ]
     },
     "metadata": {},
     "output_type": "display_data"
    }
   ],
   "source": [
    "s = pd.Series(range(1, 11))\n",
    "print(s)"
   ]
  },
  {
   "cell_type": "code",
   "execution_count": 21,
   "metadata": {},
   "outputs": [
    {
     "data": {
      "text/html": [
       "<pre style=\"white-space:pre;overflow-x:auto;line-height:normal;font-family:Menlo,'DejaVu Sans Mono',consolas,'Courier New',monospace\">a    <span style=\"color: #008080; text-decoration-color: #008080; font-weight: bold\">0.765053</span>\n",
       "b    <span style=\"color: #008080; text-decoration-color: #008080; font-weight: bold\">0.476585</span>\n",
       "c    <span style=\"color: #008080; text-decoration-color: #008080; font-weight: bold\">0.208532</span>\n",
       "d    <span style=\"color: #008080; text-decoration-color: #008080; font-weight: bold\">0.949439</span>\n",
       "e    <span style=\"color: #008080; text-decoration-color: #008080; font-weight: bold\">0.028529</span>\n",
       "f    <span style=\"color: #008080; text-decoration-color: #008080; font-weight: bold\">0.144702</span>\n",
       "g    <span style=\"color: #008080; text-decoration-color: #008080; font-weight: bold\">0.972660</span>\n",
       "h    <span style=\"color: #008080; text-decoration-color: #008080; font-weight: bold\">0.546022</span>\n",
       "i    <span style=\"color: #008080; text-decoration-color: #008080; font-weight: bold\">0.717796</span>\n",
       "j    <span style=\"color: #008080; text-decoration-color: #008080; font-weight: bold\">2.118380</span>\n",
       "dtype: float64\n",
       "</pre>\n"
      ],
      "text/plain": [
       "a    \u001b[1;36m0.765053\u001b[0m\n",
       "b    \u001b[1;36m0.476585\u001b[0m\n",
       "c    \u001b[1;36m0.208532\u001b[0m\n",
       "d    \u001b[1;36m0.949439\u001b[0m\n",
       "e    \u001b[1;36m0.028529\u001b[0m\n",
       "f    \u001b[1;36m0.144702\u001b[0m\n",
       "g    \u001b[1;36m0.972660\u001b[0m\n",
       "h    \u001b[1;36m0.546022\u001b[0m\n",
       "i    \u001b[1;36m0.717796\u001b[0m\n",
       "j    \u001b[1;36m2.118380\u001b[0m\n",
       "dtype: float64\n"
      ]
     },
     "metadata": {},
     "output_type": "display_data"
    },
    {
     "data": {
      "text/html": [
       "<pre style=\"white-space:pre;overflow-x:auto;line-height:normal;font-family:Menlo,'DejaVu Sans Mono',consolas,'Courier New',monospace\"><span style=\"color: #800080; text-decoration-color: #800080; font-weight: bold\">Index</span><span style=\"font-weight: bold\">([</span><span style=\"color: #008000; text-decoration-color: #008000\">'a'</span>, <span style=\"color: #008000; text-decoration-color: #008000\">'b'</span>, <span style=\"color: #008000; text-decoration-color: #008000\">'c'</span>, <span style=\"color: #008000; text-decoration-color: #008000\">'d'</span>, <span style=\"color: #008000; text-decoration-color: #008000\">'e'</span>, <span style=\"color: #008000; text-decoration-color: #008000\">'f'</span>, <span style=\"color: #008000; text-decoration-color: #008000\">'g'</span>, <span style=\"color: #008000; text-decoration-color: #008000\">'h'</span>, <span style=\"color: #008000; text-decoration-color: #008000\">'i'</span>, <span style=\"color: #008000; text-decoration-color: #008000\">'j'</span><span style=\"font-weight: bold\">]</span>, <span style=\"color: #808000; text-decoration-color: #808000\">dtype</span>=<span style=\"color: #008000; text-decoration-color: #008000\">'object'</span><span style=\"font-weight: bold\">)</span>\n",
       "</pre>\n"
      ],
      "text/plain": [
       "\u001b[1;35mIndex\u001b[0m\u001b[1m(\u001b[0m\u001b[1m[\u001b[0m\u001b[32m'a'\u001b[0m, \u001b[32m'b'\u001b[0m, \u001b[32m'c'\u001b[0m, \u001b[32m'd'\u001b[0m, \u001b[32m'e'\u001b[0m, \u001b[32m'f'\u001b[0m, \u001b[32m'g'\u001b[0m, \u001b[32m'h'\u001b[0m, \u001b[32m'i'\u001b[0m, \u001b[32m'j'\u001b[0m\u001b[1m]\u001b[0m, \u001b[33mdtype\u001b[0m=\u001b[32m'object'\u001b[0m\u001b[1m)\u001b[0m\n"
      ]
     },
     "metadata": {},
     "output_type": "display_data"
    }
   ],
   "source": [
    "s = pd.Series(abs(np.random.randn(10)), index=['a', 'b', 'c', 'd', 'e', 'f', 'g', 'h', 'i', 'j'])\n",
    "print(s)\n",
    "print(s.index)"
   ]
  },
  {
   "cell_type": "code",
   "execution_count": 42,
   "metadata": {},
   "outputs": [
    {
     "data": {
      "text/html": [
       "<pre style=\"white-space:pre;overflow-x:auto;line-height:normal;font-family:Menlo,'DejaVu Sans Mono',consolas,'Courier New',monospace\">a    <span style=\"color: #008080; text-decoration-color: #008080; font-weight: bold\">0.0</span>\n",
       "b    <span style=\"color: #008080; text-decoration-color: #008080; font-weight: bold\">1.0</span>\n",
       "c    <span style=\"color: #008080; text-decoration-color: #008080; font-weight: bold\">2.0</span>\n",
       "dtype: float64\n",
       "</pre>\n"
      ],
      "text/plain": [
       "a    \u001b[1;36m0.0\u001b[0m\n",
       "b    \u001b[1;36m1.0\u001b[0m\n",
       "c    \u001b[1;36m2.0\u001b[0m\n",
       "dtype: float64\n"
      ]
     },
     "metadata": {},
     "output_type": "display_data"
    },
    {
     "data": {
      "text/plain": [
       "r    NaN\n",
       "a    0.0\n",
       "     NaN\n",
       "dtype: float64"
      ]
     },
     "metadata": {},
     "output_type": "display_data"
    },
    {
     "data": {
      "text/plain": [
       "0"
      ]
     },
     "execution_count": 42,
     "metadata": {},
     "output_type": "execute_result"
    }
   ],
   "source": [
    "d = {\"a\": 0.0, \"b\": 1.0, \"c\": 2.0}\n",
    "\n",
    "s = pd.Series(d)\n",
    "console.print(s)\n",
    "\n",
    "s = pd.Series(d, index=['r', 'a', ''])\n",
    "display(s)\n",
    "\n",
    "s.get('d', 0)"
   ]
  },
  {
   "cell_type": "code",
   "execution_count": 26,
   "metadata": {},
   "outputs": [],
   "source": [
    "s[s != 0] = 0"
   ]
  },
  {
   "cell_type": "code",
   "execution_count": 37,
   "metadata": {},
   "outputs": [
    {
     "data": {
      "text/plain": [
       "0    0.0\n",
       "Name: a, dtype: float64"
      ]
     },
     "execution_count": 37,
     "metadata": {},
     "output_type": "execute_result"
    }
   ],
   "source": [
    "s = s.reindex(['a','b','c']).fillna(0)\n",
    "\n",
    "df = pd.DataFrame(s)\n",
    "\n",
    "df = df.T\n",
    "\n",
    "df['a']"
   ]
  },
  {
   "cell_type": "code",
   "execution_count": null,
   "metadata": {},
   "outputs": [],
   "source": []
  }
 ],
 "metadata": {
  "kernelspec": {
   "display_name": "pandas-guide-AMuO7woo-py3.12",
   "language": "python",
   "name": "python3"
  },
  "language_info": {
   "codemirror_mode": {
    "name": "ipython",
    "version": 3
   },
   "file_extension": ".py",
   "mimetype": "text/x-python",
   "name": "python",
   "nbconvert_exporter": "python",
   "pygments_lexer": "ipython3",
   "version": "3.12.2"
  }
 },
 "nbformat": 4,
 "nbformat_minor": 2
}
