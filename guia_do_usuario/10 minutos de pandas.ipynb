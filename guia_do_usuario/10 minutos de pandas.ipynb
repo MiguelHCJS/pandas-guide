{
 "cells": [
  {
   "cell_type": "code",
   "execution_count": 30,
   "metadata": {},
   "outputs": [],
   "source": [
    "import pandas as pd\n",
    "import numpy as np\n",
    "from pprint import pprint as pp"
   ]
  },
  {
   "cell_type": "markdown",
   "metadata": {},
   "source": [
    "[Series e DataFrames](#criação-de-objetos-series-e-dataframe)\n",
    "\n",
    "[Visualização e informações](#visualização-e-informações)\n",
    "\n",
    "[Seleção](#seleção)"
   ]
  },
  {
   "cell_type": "markdown",
   "metadata": {},
   "source": [
    "## Criação de objetos Series e Dataframe"
   ]
  },
  {
   "cell_type": "code",
   "execution_count": 23,
   "metadata": {},
   "outputs": [
    {
     "name": "stdout",
     "output_type": "stream",
     "text": [
      "### Series ###\n"
     ]
    },
    {
     "data": {
      "text/plain": [
       "0     1.0\n",
       "1     2.0\n",
       "2     4.0\n",
       "3     NaN\n",
       "4     9.0\n",
       "5    10.0\n",
       "dtype: float64"
      ]
     },
     "metadata": {},
     "output_type": "display_data"
    },
    {
     "name": "stdout",
     "output_type": "stream",
     "text": [
      "### DataFrame ###\n"
     ]
    },
    {
     "data": {
      "text/html": [
       "<div>\n",
       "<style scoped>\n",
       "    .dataframe tbody tr th:only-of-type {\n",
       "        vertical-align: middle;\n",
       "    }\n",
       "\n",
       "    .dataframe tbody tr th {\n",
       "        vertical-align: top;\n",
       "    }\n",
       "\n",
       "    .dataframe thead th {\n",
       "        text-align: right;\n",
       "    }\n",
       "</style>\n",
       "<table border=\"1\" class=\"dataframe\">\n",
       "  <thead>\n",
       "    <tr style=\"text-align: right;\">\n",
       "      <th></th>\n",
       "      <th>A</th>\n",
       "      <th>B</th>\n",
       "      <th>C</th>\n",
       "      <th>D</th>\n",
       "      <th>E</th>\n",
       "    </tr>\n",
       "  </thead>\n",
       "  <tbody>\n",
       "    <tr>\n",
       "      <th>2024-02-19</th>\n",
       "      <td>-0.080209</td>\n",
       "      <td>-0.319142</td>\n",
       "      <td>-0.171387</td>\n",
       "      <td>0.667153</td>\n",
       "      <td>0.460364</td>\n",
       "    </tr>\n",
       "    <tr>\n",
       "      <th>2024-02-20</th>\n",
       "      <td>-0.152605</td>\n",
       "      <td>0.236786</td>\n",
       "      <td>0.165279</td>\n",
       "      <td>-0.317727</td>\n",
       "      <td>-1.359780</td>\n",
       "    </tr>\n",
       "    <tr>\n",
       "      <th>2024-02-21</th>\n",
       "      <td>-1.088730</td>\n",
       "      <td>-0.399587</td>\n",
       "      <td>-1.369993</td>\n",
       "      <td>0.052073</td>\n",
       "      <td>-0.527293</td>\n",
       "    </tr>\n",
       "    <tr>\n",
       "      <th>2024-02-22</th>\n",
       "      <td>-1.046419</td>\n",
       "      <td>0.149291</td>\n",
       "      <td>1.214983</td>\n",
       "      <td>0.674852</td>\n",
       "      <td>1.014127</td>\n",
       "    </tr>\n",
       "    <tr>\n",
       "      <th>2024-02-23</th>\n",
       "      <td>0.615652</td>\n",
       "      <td>-0.346969</td>\n",
       "      <td>-0.123025</td>\n",
       "      <td>2.125909</td>\n",
       "      <td>0.021837</td>\n",
       "    </tr>\n",
       "    <tr>\n",
       "      <th>2024-02-24</th>\n",
       "      <td>-0.059367</td>\n",
       "      <td>-0.565885</td>\n",
       "      <td>0.836691</td>\n",
       "      <td>0.987279</td>\n",
       "      <td>2.166143</td>\n",
       "    </tr>\n",
       "  </tbody>\n",
       "</table>\n",
       "</div>"
      ],
      "text/plain": [
       "                   A         B         C         D         E\n",
       "2024-02-19 -0.080209 -0.319142 -0.171387  0.667153  0.460364\n",
       "2024-02-20 -0.152605  0.236786  0.165279 -0.317727 -1.359780\n",
       "2024-02-21 -1.088730 -0.399587 -1.369993  0.052073 -0.527293\n",
       "2024-02-22 -1.046419  0.149291  1.214983  0.674852  1.014127\n",
       "2024-02-23  0.615652 -0.346969 -0.123025  2.125909  0.021837\n",
       "2024-02-24 -0.059367 -0.565885  0.836691  0.987279  2.166143"
      ]
     },
     "metadata": {},
     "output_type": "display_data"
    },
    {
     "name": "stdout",
     "output_type": "stream",
     "text": [
      "### DataFrame com dicionario ###\n"
     ]
    },
    {
     "data": {
      "text/html": [
       "<div>\n",
       "<style scoped>\n",
       "    .dataframe tbody tr th:only-of-type {\n",
       "        vertical-align: middle;\n",
       "    }\n",
       "\n",
       "    .dataframe tbody tr th {\n",
       "        vertical-align: top;\n",
       "    }\n",
       "\n",
       "    .dataframe thead th {\n",
       "        text-align: right;\n",
       "    }\n",
       "</style>\n",
       "<table border=\"1\" class=\"dataframe\">\n",
       "  <thead>\n",
       "    <tr style=\"text-align: right;\">\n",
       "      <th></th>\n",
       "      <th>A</th>\n",
       "      <th>B</th>\n",
       "      <th>C</th>\n",
       "      <th>D</th>\n",
       "      <th>E</th>\n",
       "      <th>F</th>\n",
       "    </tr>\n",
       "  </thead>\n",
       "  <tbody>\n",
       "    <tr>\n",
       "      <th>0</th>\n",
       "      <td>1.0</td>\n",
       "      <td>2013-01-02</td>\n",
       "      <td>1.0</td>\n",
       "      <td>3</td>\n",
       "      <td>test</td>\n",
       "      <td>foo</td>\n",
       "    </tr>\n",
       "    <tr>\n",
       "      <th>1</th>\n",
       "      <td>1.0</td>\n",
       "      <td>2013-01-02</td>\n",
       "      <td>1.0</td>\n",
       "      <td>3</td>\n",
       "      <td>train</td>\n",
       "      <td>foo</td>\n",
       "    </tr>\n",
       "    <tr>\n",
       "      <th>2</th>\n",
       "      <td>1.0</td>\n",
       "      <td>2013-01-02</td>\n",
       "      <td>1.0</td>\n",
       "      <td>3</td>\n",
       "      <td>test</td>\n",
       "      <td>foo</td>\n",
       "    </tr>\n",
       "    <tr>\n",
       "      <th>3</th>\n",
       "      <td>1.0</td>\n",
       "      <td>2013-01-02</td>\n",
       "      <td>1.0</td>\n",
       "      <td>3</td>\n",
       "      <td>train</td>\n",
       "      <td>foo</td>\n",
       "    </tr>\n",
       "  </tbody>\n",
       "</table>\n",
       "</div>"
      ],
      "text/plain": [
       "     A          B    C  D      E    F\n",
       "0  1.0 2013-01-02  1.0  3   test  foo\n",
       "1  1.0 2013-01-02  1.0  3  train  foo\n",
       "2  1.0 2013-01-02  1.0  3   test  foo\n",
       "3  1.0 2013-01-02  1.0  3  train  foo"
      ]
     },
     "metadata": {},
     "output_type": "display_data"
    }
   ],
   "source": [
    "# Serie\n",
    "s = pd.Series(\n",
    "    [1, 2, 4, np.nan, 9, 10]\n",
    ")\n",
    "\n",
    "# Dataframe\n",
    "datas = pd.date_range(\n",
    "    '20240219',\n",
    "    periods=6\n",
    ")\n",
    "\n",
    "df = pd.DataFrame(\n",
    "    np.random.randn(6, 5),\n",
    "    index=datas,\n",
    "    columns=list('ABCDE')\n",
    ")\n",
    "\n",
    "df_com_dicionario = pd.DataFrame(\n",
    "    {\n",
    "        \"A\": 1.0,\n",
    "        \"B\": pd.Timestamp(\"20130102\"),\n",
    "        \"C\": pd.Series(1, index=list(range(4)), dtype=\"float32\"),\n",
    "        \"D\": np.array([3] * 4, dtype=\"int32\"),\n",
    "        \"E\": pd.Categorical([\"test\", \"train\", \"test\", \"train\"]),\n",
    "        \"F\": \"foo\",\n",
    "    }\n",
    ")\n",
    "\n",
    "print('### Series ###')\n",
    "display(s)\n",
    "\n",
    "print('### DataFrame ###')\n",
    "display(df)\n",
    "\n",
    "print('### DataFrame com dicionario ###')\n",
    "display(df_com_dicionario)"
   ]
  },
  {
   "cell_type": "markdown",
   "metadata": {},
   "source": [
    "## Visualização e informações"
   ]
  },
  {
   "cell_type": "code",
   "execution_count": 25,
   "metadata": {},
   "outputs": [
    {
     "data": {
      "text/html": [
       "<div>\n",
       "<style scoped>\n",
       "    .dataframe tbody tr th:only-of-type {\n",
       "        vertical-align: middle;\n",
       "    }\n",
       "\n",
       "    .dataframe tbody tr th {\n",
       "        vertical-align: top;\n",
       "    }\n",
       "\n",
       "    .dataframe thead th {\n",
       "        text-align: right;\n",
       "    }\n",
       "</style>\n",
       "<table border=\"1\" class=\"dataframe\">\n",
       "  <thead>\n",
       "    <tr style=\"text-align: right;\">\n",
       "      <th></th>\n",
       "      <th>A</th>\n",
       "      <th>B</th>\n",
       "      <th>C</th>\n",
       "      <th>D</th>\n",
       "      <th>E</th>\n",
       "    </tr>\n",
       "  </thead>\n",
       "  <tbody>\n",
       "    <tr>\n",
       "      <th>2024-02-19</th>\n",
       "      <td>-0.080209</td>\n",
       "      <td>-0.319142</td>\n",
       "      <td>-0.171387</td>\n",
       "      <td>0.667153</td>\n",
       "      <td>0.460364</td>\n",
       "    </tr>\n",
       "    <tr>\n",
       "      <th>2024-02-20</th>\n",
       "      <td>-0.152605</td>\n",
       "      <td>0.236786</td>\n",
       "      <td>0.165279</td>\n",
       "      <td>-0.317727</td>\n",
       "      <td>-1.359780</td>\n",
       "    </tr>\n",
       "  </tbody>\n",
       "</table>\n",
       "</div>"
      ],
      "text/plain": [
       "                   A         B         C         D         E\n",
       "2024-02-19 -0.080209 -0.319142 -0.171387  0.667153  0.460364\n",
       "2024-02-20 -0.152605  0.236786  0.165279 -0.317727 -1.359780"
      ]
     },
     "execution_count": 25,
     "metadata": {},
     "output_type": "execute_result"
    }
   ],
   "source": [
    "df.head(2)"
   ]
  },
  {
   "cell_type": "code",
   "execution_count": 26,
   "metadata": {},
   "outputs": [
    {
     "data": {
      "text/html": [
       "<div>\n",
       "<style scoped>\n",
       "    .dataframe tbody tr th:only-of-type {\n",
       "        vertical-align: middle;\n",
       "    }\n",
       "\n",
       "    .dataframe tbody tr th {\n",
       "        vertical-align: top;\n",
       "    }\n",
       "\n",
       "    .dataframe thead th {\n",
       "        text-align: right;\n",
       "    }\n",
       "</style>\n",
       "<table border=\"1\" class=\"dataframe\">\n",
       "  <thead>\n",
       "    <tr style=\"text-align: right;\">\n",
       "      <th></th>\n",
       "      <th>A</th>\n",
       "      <th>B</th>\n",
       "      <th>C</th>\n",
       "      <th>D</th>\n",
       "      <th>E</th>\n",
       "    </tr>\n",
       "  </thead>\n",
       "  <tbody>\n",
       "    <tr>\n",
       "      <th>2024-02-23</th>\n",
       "      <td>0.615652</td>\n",
       "      <td>-0.346969</td>\n",
       "      <td>-0.123025</td>\n",
       "      <td>2.125909</td>\n",
       "      <td>0.021837</td>\n",
       "    </tr>\n",
       "    <tr>\n",
       "      <th>2024-02-24</th>\n",
       "      <td>-0.059367</td>\n",
       "      <td>-0.565885</td>\n",
       "      <td>0.836691</td>\n",
       "      <td>0.987279</td>\n",
       "      <td>2.166143</td>\n",
       "    </tr>\n",
       "  </tbody>\n",
       "</table>\n",
       "</div>"
      ],
      "text/plain": [
       "                   A         B         C         D         E\n",
       "2024-02-23  0.615652 -0.346969 -0.123025  2.125909  0.021837\n",
       "2024-02-24 -0.059367 -0.565885  0.836691  0.987279  2.166143"
      ]
     },
     "execution_count": 26,
     "metadata": {},
     "output_type": "execute_result"
    }
   ],
   "source": [
    "df.tail(2)"
   ]
  },
  {
   "cell_type": "code",
   "execution_count": 32,
   "metadata": {},
   "outputs": [
    {
     "data": {
      "text/plain": [
       "DatetimeIndex(['2024-02-19', '2024-02-20', '2024-02-21', '2024-02-22',\n",
       "               '2024-02-23', '2024-02-24'],\n",
       "              dtype='datetime64[ns]', freq='D')"
      ]
     },
     "execution_count": 32,
     "metadata": {},
     "output_type": "execute_result"
    }
   ],
   "source": [
    "df.index"
   ]
  },
  {
   "cell_type": "code",
   "execution_count": 36,
   "metadata": {},
   "outputs": [
    {
     "data": {
      "text/plain": [
       "Index(['A', 'B', 'C', 'D', 'E'], dtype='object')"
      ]
     },
     "execution_count": 36,
     "metadata": {},
     "output_type": "execute_result"
    }
   ],
   "source": [
    "df.columns"
   ]
  },
  {
   "cell_type": "code",
   "execution_count": 39,
   "metadata": {},
   "outputs": [
    {
     "data": {
      "text/plain": [
       "array([[-0.0802092 , -0.31914183, -0.1713868 ,  0.66715302,  0.46036394],\n",
       "       [-0.15260481,  0.23678575,  0.16527938, -0.31772655, -1.3597802 ],\n",
       "       [-1.08872979, -0.39958651, -1.36999297,  0.0520727 , -0.52729298],\n",
       "       [-1.04641912,  0.14929132,  1.21498288,  0.67485231,  1.01412728],\n",
       "       [ 0.61565173, -0.34696921, -0.12302462,  2.12590855,  0.02183672],\n",
       "       [-0.05936673, -0.56588474,  0.83669123,  0.98727946,  2.16614255]])"
      ]
     },
     "execution_count": 39,
     "metadata": {},
     "output_type": "execute_result"
    }
   ],
   "source": [
    "df.to_numpy()"
   ]
  },
  {
   "cell_type": "code",
   "execution_count": 46,
   "metadata": {},
   "outputs": [
    {
     "data": {
      "text/html": [
       "<div>\n",
       "<style scoped>\n",
       "    .dataframe tbody tr th:only-of-type {\n",
       "        vertical-align: middle;\n",
       "    }\n",
       "\n",
       "    .dataframe tbody tr th {\n",
       "        vertical-align: top;\n",
       "    }\n",
       "\n",
       "    .dataframe thead th {\n",
       "        text-align: right;\n",
       "    }\n",
       "</style>\n",
       "<table border=\"1\" class=\"dataframe\">\n",
       "  <thead>\n",
       "    <tr style=\"text-align: right;\">\n",
       "      <th></th>\n",
       "      <th>A</th>\n",
       "      <th>B</th>\n",
       "      <th>C</th>\n",
       "      <th>D</th>\n",
       "      <th>E</th>\n",
       "    </tr>\n",
       "  </thead>\n",
       "  <tbody>\n",
       "    <tr>\n",
       "      <th>count</th>\n",
       "      <td>6.000000</td>\n",
       "      <td>6.000000</td>\n",
       "      <td>6.000000</td>\n",
       "      <td>6.000000</td>\n",
       "      <td>6.000000</td>\n",
       "    </tr>\n",
       "    <tr>\n",
       "      <th>mean</th>\n",
       "      <td>-0.301946</td>\n",
       "      <td>-0.207584</td>\n",
       "      <td>0.092092</td>\n",
       "      <td>0.698257</td>\n",
       "      <td>0.295900</td>\n",
       "    </tr>\n",
       "    <tr>\n",
       "      <th>std</th>\n",
       "      <td>0.655068</td>\n",
       "      <td>0.323092</td>\n",
       "      <td>0.902669</td>\n",
       "      <td>0.845342</td>\n",
       "      <td>1.227578</td>\n",
       "    </tr>\n",
       "    <tr>\n",
       "      <th>min</th>\n",
       "      <td>-1.088730</td>\n",
       "      <td>-0.565885</td>\n",
       "      <td>-1.369993</td>\n",
       "      <td>-0.317727</td>\n",
       "      <td>-1.359780</td>\n",
       "    </tr>\n",
       "    <tr>\n",
       "      <th>25%</th>\n",
       "      <td>-0.822966</td>\n",
       "      <td>-0.386432</td>\n",
       "      <td>-0.159296</td>\n",
       "      <td>0.205843</td>\n",
       "      <td>-0.390011</td>\n",
       "    </tr>\n",
       "    <tr>\n",
       "      <th>50%</th>\n",
       "      <td>-0.116407</td>\n",
       "      <td>-0.333056</td>\n",
       "      <td>0.021127</td>\n",
       "      <td>0.671003</td>\n",
       "      <td>0.241100</td>\n",
       "    </tr>\n",
       "    <tr>\n",
       "      <th>75%</th>\n",
       "      <td>-0.064577</td>\n",
       "      <td>0.032183</td>\n",
       "      <td>0.668838</td>\n",
       "      <td>0.909173</td>\n",
       "      <td>0.875686</td>\n",
       "    </tr>\n",
       "    <tr>\n",
       "      <th>max</th>\n",
       "      <td>0.615652</td>\n",
       "      <td>0.236786</td>\n",
       "      <td>1.214983</td>\n",
       "      <td>2.125909</td>\n",
       "      <td>2.166143</td>\n",
       "    </tr>\n",
       "  </tbody>\n",
       "</table>\n",
       "</div>"
      ],
      "text/plain": [
       "              A         B         C         D         E\n",
       "count  6.000000  6.000000  6.000000  6.000000  6.000000\n",
       "mean  -0.301946 -0.207584  0.092092  0.698257  0.295900\n",
       "std    0.655068  0.323092  0.902669  0.845342  1.227578\n",
       "min   -1.088730 -0.565885 -1.369993 -0.317727 -1.359780\n",
       "25%   -0.822966 -0.386432 -0.159296  0.205843 -0.390011\n",
       "50%   -0.116407 -0.333056  0.021127  0.671003  0.241100\n",
       "75%   -0.064577  0.032183  0.668838  0.909173  0.875686\n",
       "max    0.615652  0.236786  1.214983  2.125909  2.166143"
      ]
     },
     "execution_count": 46,
     "metadata": {},
     "output_type": "execute_result"
    }
   ],
   "source": [
    "df.describe()"
   ]
  },
  {
   "cell_type": "code",
   "execution_count": 48,
   "metadata": {},
   "outputs": [
    {
     "data": {
      "text/html": [
       "<div>\n",
       "<style scoped>\n",
       "    .dataframe tbody tr th:only-of-type {\n",
       "        vertical-align: middle;\n",
       "    }\n",
       "\n",
       "    .dataframe tbody tr th {\n",
       "        vertical-align: top;\n",
       "    }\n",
       "\n",
       "    .dataframe thead th {\n",
       "        text-align: right;\n",
       "    }\n",
       "</style>\n",
       "<table border=\"1\" class=\"dataframe\">\n",
       "  <thead>\n",
       "    <tr style=\"text-align: right;\">\n",
       "      <th></th>\n",
       "      <th>2024-02-19</th>\n",
       "      <th>2024-02-20</th>\n",
       "      <th>2024-02-21</th>\n",
       "      <th>2024-02-22</th>\n",
       "      <th>2024-02-23</th>\n",
       "      <th>2024-02-24</th>\n",
       "    </tr>\n",
       "  </thead>\n",
       "  <tbody>\n",
       "    <tr>\n",
       "      <th>A</th>\n",
       "      <td>-0.080209</td>\n",
       "      <td>-0.152605</td>\n",
       "      <td>-1.088730</td>\n",
       "      <td>-1.046419</td>\n",
       "      <td>0.615652</td>\n",
       "      <td>-0.059367</td>\n",
       "    </tr>\n",
       "    <tr>\n",
       "      <th>B</th>\n",
       "      <td>-0.319142</td>\n",
       "      <td>0.236786</td>\n",
       "      <td>-0.399587</td>\n",
       "      <td>0.149291</td>\n",
       "      <td>-0.346969</td>\n",
       "      <td>-0.565885</td>\n",
       "    </tr>\n",
       "    <tr>\n",
       "      <th>C</th>\n",
       "      <td>-0.171387</td>\n",
       "      <td>0.165279</td>\n",
       "      <td>-1.369993</td>\n",
       "      <td>1.214983</td>\n",
       "      <td>-0.123025</td>\n",
       "      <td>0.836691</td>\n",
       "    </tr>\n",
       "    <tr>\n",
       "      <th>D</th>\n",
       "      <td>0.667153</td>\n",
       "      <td>-0.317727</td>\n",
       "      <td>0.052073</td>\n",
       "      <td>0.674852</td>\n",
       "      <td>2.125909</td>\n",
       "      <td>0.987279</td>\n",
       "    </tr>\n",
       "    <tr>\n",
       "      <th>E</th>\n",
       "      <td>0.460364</td>\n",
       "      <td>-1.359780</td>\n",
       "      <td>-0.527293</td>\n",
       "      <td>1.014127</td>\n",
       "      <td>0.021837</td>\n",
       "      <td>2.166143</td>\n",
       "    </tr>\n",
       "  </tbody>\n",
       "</table>\n",
       "</div>"
      ],
      "text/plain": [
       "   2024-02-19  2024-02-20  2024-02-21  2024-02-22  2024-02-23  2024-02-24\n",
       "A   -0.080209   -0.152605   -1.088730   -1.046419    0.615652   -0.059367\n",
       "B   -0.319142    0.236786   -0.399587    0.149291   -0.346969   -0.565885\n",
       "C   -0.171387    0.165279   -1.369993    1.214983   -0.123025    0.836691\n",
       "D    0.667153   -0.317727    0.052073    0.674852    2.125909    0.987279\n",
       "E    0.460364   -1.359780   -0.527293    1.014127    0.021837    2.166143"
      ]
     },
     "execution_count": 48,
     "metadata": {},
     "output_type": "execute_result"
    }
   ],
   "source": [
    "df.T"
   ]
  },
  {
   "cell_type": "code",
   "execution_count": 56,
   "metadata": {},
   "outputs": [
    {
     "data": {
      "text/html": [
       "<div>\n",
       "<style scoped>\n",
       "    .dataframe tbody tr th:only-of-type {\n",
       "        vertical-align: middle;\n",
       "    }\n",
       "\n",
       "    .dataframe tbody tr th {\n",
       "        vertical-align: top;\n",
       "    }\n",
       "\n",
       "    .dataframe thead th {\n",
       "        text-align: right;\n",
       "    }\n",
       "</style>\n",
       "<table border=\"1\" class=\"dataframe\">\n",
       "  <thead>\n",
       "    <tr style=\"text-align: right;\">\n",
       "      <th></th>\n",
       "      <th>A</th>\n",
       "      <th>B</th>\n",
       "      <th>C</th>\n",
       "      <th>D</th>\n",
       "      <th>E</th>\n",
       "    </tr>\n",
       "  </thead>\n",
       "  <tbody>\n",
       "    <tr>\n",
       "      <th>2024-02-19</th>\n",
       "      <td>-0.080209</td>\n",
       "      <td>-0.319142</td>\n",
       "      <td>-0.171387</td>\n",
       "      <td>0.667153</td>\n",
       "      <td>0.460364</td>\n",
       "    </tr>\n",
       "    <tr>\n",
       "      <th>2024-02-20</th>\n",
       "      <td>-0.152605</td>\n",
       "      <td>0.236786</td>\n",
       "      <td>0.165279</td>\n",
       "      <td>-0.317727</td>\n",
       "      <td>-1.359780</td>\n",
       "    </tr>\n",
       "    <tr>\n",
       "      <th>2024-02-21</th>\n",
       "      <td>-1.088730</td>\n",
       "      <td>-0.399587</td>\n",
       "      <td>-1.369993</td>\n",
       "      <td>0.052073</td>\n",
       "      <td>-0.527293</td>\n",
       "    </tr>\n",
       "    <tr>\n",
       "      <th>2024-02-22</th>\n",
       "      <td>-1.046419</td>\n",
       "      <td>0.149291</td>\n",
       "      <td>1.214983</td>\n",
       "      <td>0.674852</td>\n",
       "      <td>1.014127</td>\n",
       "    </tr>\n",
       "    <tr>\n",
       "      <th>2024-02-23</th>\n",
       "      <td>0.615652</td>\n",
       "      <td>-0.346969</td>\n",
       "      <td>-0.123025</td>\n",
       "      <td>2.125909</td>\n",
       "      <td>0.021837</td>\n",
       "    </tr>\n",
       "    <tr>\n",
       "      <th>2024-02-24</th>\n",
       "      <td>-0.059367</td>\n",
       "      <td>-0.565885</td>\n",
       "      <td>0.836691</td>\n",
       "      <td>0.987279</td>\n",
       "      <td>2.166143</td>\n",
       "    </tr>\n",
       "  </tbody>\n",
       "</table>\n",
       "</div>"
      ],
      "text/plain": [
       "                   A         B         C         D         E\n",
       "2024-02-19 -0.080209 -0.319142 -0.171387  0.667153  0.460364\n",
       "2024-02-20 -0.152605  0.236786  0.165279 -0.317727 -1.359780\n",
       "2024-02-21 -1.088730 -0.399587 -1.369993  0.052073 -0.527293\n",
       "2024-02-22 -1.046419  0.149291  1.214983  0.674852  1.014127\n",
       "2024-02-23  0.615652 -0.346969 -0.123025  2.125909  0.021837\n",
       "2024-02-24 -0.059367 -0.565885  0.836691  0.987279  2.166143"
      ]
     },
     "metadata": {},
     "output_type": "display_data"
    },
    {
     "data": {
      "text/html": [
       "<div>\n",
       "<style scoped>\n",
       "    .dataframe tbody tr th:only-of-type {\n",
       "        vertical-align: middle;\n",
       "    }\n",
       "\n",
       "    .dataframe tbody tr th {\n",
       "        vertical-align: top;\n",
       "    }\n",
       "\n",
       "    .dataframe thead th {\n",
       "        text-align: right;\n",
       "    }\n",
       "</style>\n",
       "<table border=\"1\" class=\"dataframe\">\n",
       "  <thead>\n",
       "    <tr style=\"text-align: right;\">\n",
       "      <th></th>\n",
       "      <th>A</th>\n",
       "      <th>B</th>\n",
       "      <th>C</th>\n",
       "      <th>D</th>\n",
       "      <th>E</th>\n",
       "    </tr>\n",
       "  </thead>\n",
       "  <tbody>\n",
       "    <tr>\n",
       "      <th>2024-02-20</th>\n",
       "      <td>-0.152605</td>\n",
       "      <td>0.236786</td>\n",
       "      <td>0.165279</td>\n",
       "      <td>-0.317727</td>\n",
       "      <td>-1.359780</td>\n",
       "    </tr>\n",
       "    <tr>\n",
       "      <th>2024-02-22</th>\n",
       "      <td>-1.046419</td>\n",
       "      <td>0.149291</td>\n",
       "      <td>1.214983</td>\n",
       "      <td>0.674852</td>\n",
       "      <td>1.014127</td>\n",
       "    </tr>\n",
       "    <tr>\n",
       "      <th>2024-02-19</th>\n",
       "      <td>-0.080209</td>\n",
       "      <td>-0.319142</td>\n",
       "      <td>-0.171387</td>\n",
       "      <td>0.667153</td>\n",
       "      <td>0.460364</td>\n",
       "    </tr>\n",
       "    <tr>\n",
       "      <th>2024-02-23</th>\n",
       "      <td>0.615652</td>\n",
       "      <td>-0.346969</td>\n",
       "      <td>-0.123025</td>\n",
       "      <td>2.125909</td>\n",
       "      <td>0.021837</td>\n",
       "    </tr>\n",
       "    <tr>\n",
       "      <th>2024-02-21</th>\n",
       "      <td>-1.088730</td>\n",
       "      <td>-0.399587</td>\n",
       "      <td>-1.369993</td>\n",
       "      <td>0.052073</td>\n",
       "      <td>-0.527293</td>\n",
       "    </tr>\n",
       "    <tr>\n",
       "      <th>2024-02-24</th>\n",
       "      <td>-0.059367</td>\n",
       "      <td>-0.565885</td>\n",
       "      <td>0.836691</td>\n",
       "      <td>0.987279</td>\n",
       "      <td>2.166143</td>\n",
       "    </tr>\n",
       "  </tbody>\n",
       "</table>\n",
       "</div>"
      ],
      "text/plain": [
       "                   A         B         C         D         E\n",
       "2024-02-20 -0.152605  0.236786  0.165279 -0.317727 -1.359780\n",
       "2024-02-22 -1.046419  0.149291  1.214983  0.674852  1.014127\n",
       "2024-02-19 -0.080209 -0.319142 -0.171387  0.667153  0.460364\n",
       "2024-02-23  0.615652 -0.346969 -0.123025  2.125909  0.021837\n",
       "2024-02-21 -1.088730 -0.399587 -1.369993  0.052073 -0.527293\n",
       "2024-02-24 -0.059367 -0.565885  0.836691  0.987279  2.166143"
      ]
     },
     "metadata": {},
     "output_type": "display_data"
    }
   ],
   "source": [
    "display(df.sort_index(axis=1, ascending=True))\n",
    "display(df.sort_values(by='B', ascending=False))"
   ]
  },
  {
   "cell_type": "markdown",
   "metadata": {},
   "source": [
    "## Seleção"
   ]
  },
  {
   "cell_type": "code",
   "execution_count": 87,
   "metadata": {},
   "outputs": [
    {
     "name": "stdout",
     "output_type": "stream",
     "text": [
      "###\n",
      "Modos de seleção única\n",
      "###\n"
     ]
    },
    {
     "data": {
      "text/plain": [
       "2024-02-19   -0.080209\n",
       "2024-02-20   -0.152605\n",
       "2024-02-21   -1.088730\n",
       "2024-02-22   -1.046419\n",
       "2024-02-23    0.615652\n",
       "2024-02-24   -0.059367\n",
       "Freq: D, Name: A, dtype: float64"
      ]
     },
     "metadata": {},
     "output_type": "display_data"
    },
    {
     "data": {
      "text/plain": [
       "2024-02-19   -0.080209\n",
       "2024-02-20   -0.152605\n",
       "2024-02-21   -1.088730\n",
       "2024-02-22   -1.046419\n",
       "2024-02-23    0.615652\n",
       "2024-02-24   -0.059367\n",
       "Freq: D, Name: A, dtype: float64"
      ]
     },
     "metadata": {},
     "output_type": "display_data"
    },
    {
     "name": "stdout",
     "output_type": "stream",
     "text": [
      "###\n",
      "Modos de seleção por etiqueta\n",
      "###\n"
     ]
    },
    {
     "data": {
      "text/plain": [
       "A   -0.080209\n",
       "B   -0.319142\n",
       "C   -0.171387\n",
       "D    0.667153\n",
       "E    0.460364\n",
       "Name: 2024-02-19 00:00:00, dtype: float64"
      ]
     },
     "metadata": {},
     "output_type": "display_data"
    }
   ],
   "source": [
    "print('###\\nModos de seleção única\\n###')\n",
    "display(df['A'])\n",
    "display(df.A)\n",
    "\n",
    "print('###\\nModos de seleção por etiqueta\\n###')\n",
    "display(df.loc[datas[0]])"
   ]
  },
  {
   "cell_type": "code",
   "execution_count": 88,
   "metadata": {},
   "outputs": [
    {
     "name": "stdout",
     "output_type": "stream",
     "text": [
      "###\n",
      "Modos de seleção múltiplas\n",
      "###\n"
     ]
    },
    {
     "data": {
      "text/html": [
       "<div>\n",
       "<style scoped>\n",
       "    .dataframe tbody tr th:only-of-type {\n",
       "        vertical-align: middle;\n",
       "    }\n",
       "\n",
       "    .dataframe tbody tr th {\n",
       "        vertical-align: top;\n",
       "    }\n",
       "\n",
       "    .dataframe thead th {\n",
       "        text-align: right;\n",
       "    }\n",
       "</style>\n",
       "<table border=\"1\" class=\"dataframe\">\n",
       "  <thead>\n",
       "    <tr style=\"text-align: right;\">\n",
       "      <th></th>\n",
       "      <th>A</th>\n",
       "      <th>D</th>\n",
       "    </tr>\n",
       "  </thead>\n",
       "  <tbody>\n",
       "    <tr>\n",
       "      <th>2024-02-19</th>\n",
       "      <td>-0.080209</td>\n",
       "      <td>0.667153</td>\n",
       "    </tr>\n",
       "    <tr>\n",
       "      <th>2024-02-20</th>\n",
       "      <td>-0.152605</td>\n",
       "      <td>-0.317727</td>\n",
       "    </tr>\n",
       "    <tr>\n",
       "      <th>2024-02-21</th>\n",
       "      <td>-1.088730</td>\n",
       "      <td>0.052073</td>\n",
       "    </tr>\n",
       "    <tr>\n",
       "      <th>2024-02-22</th>\n",
       "      <td>-1.046419</td>\n",
       "      <td>0.674852</td>\n",
       "    </tr>\n",
       "    <tr>\n",
       "      <th>2024-02-23</th>\n",
       "      <td>0.615652</td>\n",
       "      <td>2.125909</td>\n",
       "    </tr>\n",
       "    <tr>\n",
       "      <th>2024-02-24</th>\n",
       "      <td>-0.059367</td>\n",
       "      <td>0.987279</td>\n",
       "    </tr>\n",
       "  </tbody>\n",
       "</table>\n",
       "</div>"
      ],
      "text/plain": [
       "                   A         D\n",
       "2024-02-19 -0.080209  0.667153\n",
       "2024-02-20 -0.152605 -0.317727\n",
       "2024-02-21 -1.088730  0.052073\n",
       "2024-02-22 -1.046419  0.674852\n",
       "2024-02-23  0.615652  2.125909\n",
       "2024-02-24 -0.059367  0.987279"
      ]
     },
     "metadata": {},
     "output_type": "display_data"
    },
    {
     "name": "stdout",
     "output_type": "stream",
     "text": [
      "###\n",
      "Modos de seleção múltiplas por etiqueta\n",
      "###\n"
     ]
    },
    {
     "data": {
      "text/html": [
       "<div>\n",
       "<style scoped>\n",
       "    .dataframe tbody tr th:only-of-type {\n",
       "        vertical-align: middle;\n",
       "    }\n",
       "\n",
       "    .dataframe tbody tr th {\n",
       "        vertical-align: top;\n",
       "    }\n",
       "\n",
       "    .dataframe thead th {\n",
       "        text-align: right;\n",
       "    }\n",
       "</style>\n",
       "<table border=\"1\" class=\"dataframe\">\n",
       "  <thead>\n",
       "    <tr style=\"text-align: right;\">\n",
       "      <th></th>\n",
       "      <th>A</th>\n",
       "      <th>B</th>\n",
       "    </tr>\n",
       "  </thead>\n",
       "  <tbody>\n",
       "    <tr>\n",
       "      <th>2024-02-19</th>\n",
       "      <td>-0.080209</td>\n",
       "      <td>-0.319142</td>\n",
       "    </tr>\n",
       "    <tr>\n",
       "      <th>2024-02-20</th>\n",
       "      <td>-0.152605</td>\n",
       "      <td>0.236786</td>\n",
       "    </tr>\n",
       "    <tr>\n",
       "      <th>2024-02-21</th>\n",
       "      <td>-1.088730</td>\n",
       "      <td>-0.399587</td>\n",
       "    </tr>\n",
       "    <tr>\n",
       "      <th>2024-02-22</th>\n",
       "      <td>-1.046419</td>\n",
       "      <td>0.149291</td>\n",
       "    </tr>\n",
       "    <tr>\n",
       "      <th>2024-02-23</th>\n",
       "      <td>0.615652</td>\n",
       "      <td>-0.346969</td>\n",
       "    </tr>\n",
       "    <tr>\n",
       "      <th>2024-02-24</th>\n",
       "      <td>-0.059367</td>\n",
       "      <td>-0.565885</td>\n",
       "    </tr>\n",
       "  </tbody>\n",
       "</table>\n",
       "</div>"
      ],
      "text/plain": [
       "                   A         B\n",
       "2024-02-19 -0.080209 -0.319142\n",
       "2024-02-20 -0.152605  0.236786\n",
       "2024-02-21 -1.088730 -0.399587\n",
       "2024-02-22 -1.046419  0.149291\n",
       "2024-02-23  0.615652 -0.346969\n",
       "2024-02-24 -0.059367 -0.565885"
      ]
     },
     "metadata": {},
     "output_type": "display_data"
    }
   ],
   "source": [
    "print('###\\nModos de seleção múltiplas\\n###')\n",
    "display(df[['A', 'D']])\n",
    "\n",
    "print('###\\nModos de seleção múltiplas por etiqueta\\n###')\n",
    "display(df.loc[:, ['A', 'B']])"
   ]
  },
  {
   "cell_type": "code",
   "execution_count": 100,
   "metadata": {},
   "outputs": [
    {
     "name": "stdout",
     "output_type": "stream",
     "text": [
      "Por linha, pelo número de index\n"
     ]
    },
    {
     "data": {
      "text/html": [
       "<div>\n",
       "<style scoped>\n",
       "    .dataframe tbody tr th:only-of-type {\n",
       "        vertical-align: middle;\n",
       "    }\n",
       "\n",
       "    .dataframe tbody tr th {\n",
       "        vertical-align: top;\n",
       "    }\n",
       "\n",
       "    .dataframe thead th {\n",
       "        text-align: right;\n",
       "    }\n",
       "</style>\n",
       "<table border=\"1\" class=\"dataframe\">\n",
       "  <thead>\n",
       "    <tr style=\"text-align: right;\">\n",
       "      <th></th>\n",
       "      <th>A</th>\n",
       "      <th>B</th>\n",
       "      <th>C</th>\n",
       "      <th>D</th>\n",
       "      <th>E</th>\n",
       "    </tr>\n",
       "  </thead>\n",
       "  <tbody>\n",
       "    <tr>\n",
       "      <th>2024-02-19</th>\n",
       "      <td>-0.080209</td>\n",
       "      <td>-0.319142</td>\n",
       "      <td>-0.171387</td>\n",
       "      <td>0.667153</td>\n",
       "      <td>0.460364</td>\n",
       "    </tr>\n",
       "    <tr>\n",
       "      <th>2024-02-20</th>\n",
       "      <td>-0.152605</td>\n",
       "      <td>0.236786</td>\n",
       "      <td>0.165279</td>\n",
       "      <td>-0.317727</td>\n",
       "      <td>-1.359780</td>\n",
       "    </tr>\n",
       "    <tr>\n",
       "      <th>2024-02-21</th>\n",
       "      <td>-1.088730</td>\n",
       "      <td>-0.399587</td>\n",
       "      <td>-1.369993</td>\n",
       "      <td>0.052073</td>\n",
       "      <td>-0.527293</td>\n",
       "    </tr>\n",
       "  </tbody>\n",
       "</table>\n",
       "</div>"
      ],
      "text/plain": [
       "                   A         B         C         D         E\n",
       "2024-02-19 -0.080209 -0.319142 -0.171387  0.667153  0.460364\n",
       "2024-02-20 -0.152605  0.236786  0.165279 -0.317727 -1.359780\n",
       "2024-02-21 -1.088730 -0.399587 -1.369993  0.052073 -0.527293"
      ]
     },
     "metadata": {},
     "output_type": "display_data"
    },
    {
     "name": "stdout",
     "output_type": "stream",
     "text": [
      "Por linha, pelo nome do index\n"
     ]
    },
    {
     "data": {
      "text/html": [
       "<div>\n",
       "<style scoped>\n",
       "    .dataframe tbody tr th:only-of-type {\n",
       "        vertical-align: middle;\n",
       "    }\n",
       "\n",
       "    .dataframe tbody tr th {\n",
       "        vertical-align: top;\n",
       "    }\n",
       "\n",
       "    .dataframe thead th {\n",
       "        text-align: right;\n",
       "    }\n",
       "</style>\n",
       "<table border=\"1\" class=\"dataframe\">\n",
       "  <thead>\n",
       "    <tr style=\"text-align: right;\">\n",
       "      <th></th>\n",
       "      <th>A</th>\n",
       "      <th>B</th>\n",
       "      <th>C</th>\n",
       "      <th>D</th>\n",
       "      <th>E</th>\n",
       "    </tr>\n",
       "  </thead>\n",
       "  <tbody>\n",
       "    <tr>\n",
       "      <th>2024-02-19</th>\n",
       "      <td>-0.080209</td>\n",
       "      <td>-0.319142</td>\n",
       "      <td>-0.171387</td>\n",
       "      <td>0.667153</td>\n",
       "      <td>0.460364</td>\n",
       "    </tr>\n",
       "    <tr>\n",
       "      <th>2024-02-20</th>\n",
       "      <td>-0.152605</td>\n",
       "      <td>0.236786</td>\n",
       "      <td>0.165279</td>\n",
       "      <td>-0.317727</td>\n",
       "      <td>-1.359780</td>\n",
       "    </tr>\n",
       "    <tr>\n",
       "      <th>2024-02-21</th>\n",
       "      <td>-1.088730</td>\n",
       "      <td>-0.399587</td>\n",
       "      <td>-1.369993</td>\n",
       "      <td>0.052073</td>\n",
       "      <td>-0.527293</td>\n",
       "    </tr>\n",
       "  </tbody>\n",
       "</table>\n",
       "</div>"
      ],
      "text/plain": [
       "                   A         B         C         D         E\n",
       "2024-02-19 -0.080209 -0.319142 -0.171387  0.667153  0.460364\n",
       "2024-02-20 -0.152605  0.236786  0.165279 -0.317727 -1.359780\n",
       "2024-02-21 -1.088730 -0.399587 -1.369993  0.052073 -0.527293"
      ]
     },
     "metadata": {},
     "output_type": "display_data"
    },
    {
     "name": "stdout",
     "output_type": "stream",
     "text": [
      "Por linha, por etiqueta\n"
     ]
    },
    {
     "data": {
      "text/html": [
       "<div>\n",
       "<style scoped>\n",
       "    .dataframe tbody tr th:only-of-type {\n",
       "        vertical-align: middle;\n",
       "    }\n",
       "\n",
       "    .dataframe tbody tr th {\n",
       "        vertical-align: top;\n",
       "    }\n",
       "\n",
       "    .dataframe thead th {\n",
       "        text-align: right;\n",
       "    }\n",
       "</style>\n",
       "<table border=\"1\" class=\"dataframe\">\n",
       "  <thead>\n",
       "    <tr style=\"text-align: right;\">\n",
       "      <th></th>\n",
       "      <th>A</th>\n",
       "      <th>B</th>\n",
       "      <th>C</th>\n",
       "      <th>D</th>\n",
       "      <th>E</th>\n",
       "    </tr>\n",
       "  </thead>\n",
       "  <tbody>\n",
       "    <tr>\n",
       "      <th>2024-02-19</th>\n",
       "      <td>-0.080209</td>\n",
       "      <td>-0.319142</td>\n",
       "      <td>-0.171387</td>\n",
       "      <td>0.667153</td>\n",
       "      <td>0.460364</td>\n",
       "    </tr>\n",
       "    <tr>\n",
       "      <th>2024-02-20</th>\n",
       "      <td>-0.152605</td>\n",
       "      <td>0.236786</td>\n",
       "      <td>0.165279</td>\n",
       "      <td>-0.317727</td>\n",
       "      <td>-1.359780</td>\n",
       "    </tr>\n",
       "    <tr>\n",
       "      <th>2024-02-21</th>\n",
       "      <td>-1.088730</td>\n",
       "      <td>-0.399587</td>\n",
       "      <td>-1.369993</td>\n",
       "      <td>0.052073</td>\n",
       "      <td>-0.527293</td>\n",
       "    </tr>\n",
       "  </tbody>\n",
       "</table>\n",
       "</div>"
      ],
      "text/plain": [
       "                   A         B         C         D         E\n",
       "2024-02-19 -0.080209 -0.319142 -0.171387  0.667153  0.460364\n",
       "2024-02-20 -0.152605  0.236786  0.165279 -0.317727 -1.359780\n",
       "2024-02-21 -1.088730 -0.399587 -1.369993  0.052073 -0.527293"
      ]
     },
     "metadata": {},
     "output_type": "display_data"
    },
    {
     "name": "stdout",
     "output_type": "stream",
     "text": [
      "Seleção única, dia 19-02-2024 da coluna A\n"
     ]
    },
    {
     "data": {
      "text/plain": [
       "-0.0802091975233623"
      ]
     },
     "metadata": {},
     "output_type": "display_data"
    },
    {
     "name": "stdout",
     "output_type": "stream",
     "text": [
      "Existe também a por posição, df.iloc[:3, :2]\n"
     ]
    }
   ],
   "source": [
    "print('Por linha, pelo número de index')\n",
    "display(df[0:3])\n",
    "\n",
    "print('Por linha, pelo nome do index')\n",
    "display(df['2024-02-19': '2024-02-21'])\n",
    "\n",
    "print('Por linha, por etiqueta')\n",
    "display(df.loc['2024-02-19': '2024-02-21', 'A':'E'])\n",
    "\n",
    "print('Seleção única, dia 19-02-2024 da coluna A')\n",
    "display(df.loc['2024-02-19', 'A'])\n",
    "\n",
    "print('Existe também a por posição, df.iloc[:3, :2]')"
   ]
  },
  {
   "cell_type": "code",
   "execution_count": 120,
   "metadata": {},
   "outputs": [
    {
     "name": "stdout",
     "output_type": "stream",
     "text": [
      "Por Booleana\n"
     ]
    },
    {
     "data": {
      "text/html": [
       "<div>\n",
       "<style scoped>\n",
       "    .dataframe tbody tr th:only-of-type {\n",
       "        vertical-align: middle;\n",
       "    }\n",
       "\n",
       "    .dataframe tbody tr th {\n",
       "        vertical-align: top;\n",
       "    }\n",
       "\n",
       "    .dataframe thead th {\n",
       "        text-align: right;\n",
       "    }\n",
       "</style>\n",
       "<table border=\"1\" class=\"dataframe\">\n",
       "  <thead>\n",
       "    <tr style=\"text-align: right;\">\n",
       "      <th></th>\n",
       "      <th>A</th>\n",
       "      <th>B</th>\n",
       "      <th>C</th>\n",
       "      <th>D</th>\n",
       "      <th>E</th>\n",
       "    </tr>\n",
       "  </thead>\n",
       "  <tbody>\n",
       "    <tr>\n",
       "      <th>2024-02-23</th>\n",
       "      <td>0.615652</td>\n",
       "      <td>-0.346969</td>\n",
       "      <td>-0.123025</td>\n",
       "      <td>2.125909</td>\n",
       "      <td>0.021837</td>\n",
       "    </tr>\n",
       "  </tbody>\n",
       "</table>\n",
       "</div>"
      ],
      "text/plain": [
       "                   A         B         C         D         E\n",
       "2024-02-23  0.615652 -0.346969 -0.123025  2.125909  0.021837"
      ]
     },
     "metadata": {},
     "output_type": "display_data"
    },
    {
     "name": "stdout",
     "output_type": "stream",
     "text": [
      "É possível dar um \"fillna(\"\")\"\n"
     ]
    },
    {
     "data": {
      "text/html": [
       "<div>\n",
       "<style scoped>\n",
       "    .dataframe tbody tr th:only-of-type {\n",
       "        vertical-align: middle;\n",
       "    }\n",
       "\n",
       "    .dataframe tbody tr th {\n",
       "        vertical-align: top;\n",
       "    }\n",
       "\n",
       "    .dataframe thead th {\n",
       "        text-align: right;\n",
       "    }\n",
       "</style>\n",
       "<table border=\"1\" class=\"dataframe\">\n",
       "  <thead>\n",
       "    <tr style=\"text-align: right;\">\n",
       "      <th></th>\n",
       "      <th>A</th>\n",
       "      <th>B</th>\n",
       "      <th>C</th>\n",
       "      <th>D</th>\n",
       "      <th>E</th>\n",
       "    </tr>\n",
       "  </thead>\n",
       "  <tbody>\n",
       "    <tr>\n",
       "      <th>2024-02-19</th>\n",
       "      <td></td>\n",
       "      <td></td>\n",
       "      <td></td>\n",
       "      <td>0.667153</td>\n",
       "      <td>0.460364</td>\n",
       "    </tr>\n",
       "    <tr>\n",
       "      <th>2024-02-20</th>\n",
       "      <td></td>\n",
       "      <td>0.236786</td>\n",
       "      <td>0.165279</td>\n",
       "      <td></td>\n",
       "      <td></td>\n",
       "    </tr>\n",
       "    <tr>\n",
       "      <th>2024-02-21</th>\n",
       "      <td></td>\n",
       "      <td></td>\n",
       "      <td></td>\n",
       "      <td>0.052073</td>\n",
       "      <td></td>\n",
       "    </tr>\n",
       "    <tr>\n",
       "      <th>2024-02-22</th>\n",
       "      <td></td>\n",
       "      <td>0.149291</td>\n",
       "      <td>1.214983</td>\n",
       "      <td>0.674852</td>\n",
       "      <td>1.014127</td>\n",
       "    </tr>\n",
       "    <tr>\n",
       "      <th>2024-02-23</th>\n",
       "      <td>0.615652</td>\n",
       "      <td></td>\n",
       "      <td></td>\n",
       "      <td>2.125909</td>\n",
       "      <td>0.021837</td>\n",
       "    </tr>\n",
       "    <tr>\n",
       "      <th>2024-02-24</th>\n",
       "      <td></td>\n",
       "      <td></td>\n",
       "      <td>0.836691</td>\n",
       "      <td>0.987279</td>\n",
       "      <td>2.166143</td>\n",
       "    </tr>\n",
       "  </tbody>\n",
       "</table>\n",
       "</div>"
      ],
      "text/plain": [
       "                   A         B         C         D         E\n",
       "2024-02-19                                0.667153  0.460364\n",
       "2024-02-20            0.236786  0.165279                    \n",
       "2024-02-21                                0.052073          \n",
       "2024-02-22            0.149291  1.214983  0.674852  1.014127\n",
       "2024-02-23  0.615652                      2.125909  0.021837\n",
       "2024-02-24                      0.836691  0.987279  2.166143"
      ]
     },
     "metadata": {},
     "output_type": "display_data"
    },
    {
     "name": "stdout",
     "output_type": "stream",
     "text": [
      "Com o \"isin([4].fillna(\"\"))\"\n"
     ]
    },
    {
     "data": {
      "text/html": [
       "<div>\n",
       "<style scoped>\n",
       "    .dataframe tbody tr th:only-of-type {\n",
       "        vertical-align: middle;\n",
       "    }\n",
       "\n",
       "    .dataframe tbody tr th {\n",
       "        vertical-align: top;\n",
       "    }\n",
       "\n",
       "    .dataframe thead th {\n",
       "        text-align: right;\n",
       "    }\n",
       "</style>\n",
       "<table border=\"1\" class=\"dataframe\">\n",
       "  <thead>\n",
       "    <tr style=\"text-align: right;\">\n",
       "      <th></th>\n",
       "      <th>A</th>\n",
       "      <th>B</th>\n",
       "      <th>C</th>\n",
       "      <th>D</th>\n",
       "      <th>E</th>\n",
       "      <th>F</th>\n",
       "    </tr>\n",
       "  </thead>\n",
       "  <tbody>\n",
       "    <tr>\n",
       "      <th>2024-02-19</th>\n",
       "      <td></td>\n",
       "      <td></td>\n",
       "      <td></td>\n",
       "      <td></td>\n",
       "      <td></td>\n",
       "      <td></td>\n",
       "    </tr>\n",
       "    <tr>\n",
       "      <th>2024-02-20</th>\n",
       "      <td></td>\n",
       "      <td></td>\n",
       "      <td></td>\n",
       "      <td></td>\n",
       "      <td></td>\n",
       "      <td></td>\n",
       "    </tr>\n",
       "    <tr>\n",
       "      <th>2024-02-21</th>\n",
       "      <td></td>\n",
       "      <td></td>\n",
       "      <td></td>\n",
       "      <td></td>\n",
       "      <td></td>\n",
       "      <td>4.0</td>\n",
       "    </tr>\n",
       "    <tr>\n",
       "      <th>2024-02-22</th>\n",
       "      <td></td>\n",
       "      <td></td>\n",
       "      <td></td>\n",
       "      <td></td>\n",
       "      <td></td>\n",
       "      <td>4.0</td>\n",
       "    </tr>\n",
       "    <tr>\n",
       "      <th>2024-02-23</th>\n",
       "      <td></td>\n",
       "      <td></td>\n",
       "      <td></td>\n",
       "      <td></td>\n",
       "      <td></td>\n",
       "      <td></td>\n",
       "    </tr>\n",
       "    <tr>\n",
       "      <th>2024-02-24</th>\n",
       "      <td></td>\n",
       "      <td></td>\n",
       "      <td></td>\n",
       "      <td></td>\n",
       "      <td></td>\n",
       "      <td>4.0</td>\n",
       "    </tr>\n",
       "  </tbody>\n",
       "</table>\n",
       "</div>"
      ],
      "text/plain": [
       "           A B C D E    F\n",
       "2024-02-19               \n",
       "2024-02-20               \n",
       "2024-02-21            4.0\n",
       "2024-02-22            4.0\n",
       "2024-02-23               \n",
       "2024-02-24            4.0"
      ]
     },
     "metadata": {},
     "output_type": "display_data"
    }
   ],
   "source": [
    "print('Por Booleana')\n",
    "display(df[df['A'] > 0])\n",
    "\n",
    "print('É possível dar um \"fillna(\"\")\"')\n",
    "display(df[df > 0].fillna(''))\n",
    "\n",
    "print('Com o \"isin([4].fillna(\"\"))\"')\n",
    "df2 = df.copy()\n",
    "df2['F'] = [2, 3, 4, 4, 5, 4]\n",
    "display(df2[df2.isin([4])].fillna(''))"
   ]
  },
  {
   "cell_type": "code",
   "execution_count": 129,
   "metadata": {},
   "outputs": [
    {
     "data": {
      "text/html": [
       "<div>\n",
       "<style scoped>\n",
       "    .dataframe tbody tr th:only-of-type {\n",
       "        vertical-align: middle;\n",
       "    }\n",
       "\n",
       "    .dataframe tbody tr th {\n",
       "        vertical-align: top;\n",
       "    }\n",
       "\n",
       "    .dataframe thead th {\n",
       "        text-align: right;\n",
       "    }\n",
       "</style>\n",
       "<table border=\"1\" class=\"dataframe\">\n",
       "  <thead>\n",
       "    <tr style=\"text-align: right;\">\n",
       "      <th></th>\n",
       "      <th>A</th>\n",
       "      <th>B</th>\n",
       "      <th>C</th>\n",
       "      <th>D</th>\n",
       "      <th>E</th>\n",
       "    </tr>\n",
       "  </thead>\n",
       "  <tbody>\n",
       "    <tr>\n",
       "      <th>2024-02-19</th>\n",
       "      <td>False</td>\n",
       "      <td>False</td>\n",
       "      <td>False</td>\n",
       "      <td>False</td>\n",
       "      <td>False</td>\n",
       "    </tr>\n",
       "    <tr>\n",
       "      <th>2024-02-20</th>\n",
       "      <td>False</td>\n",
       "      <td>False</td>\n",
       "      <td>False</td>\n",
       "      <td>False</td>\n",
       "      <td>False</td>\n",
       "    </tr>\n",
       "    <tr>\n",
       "      <th>2024-02-21</th>\n",
       "      <td>False</td>\n",
       "      <td>False</td>\n",
       "      <td>False</td>\n",
       "      <td>False</td>\n",
       "      <td>False</td>\n",
       "    </tr>\n",
       "    <tr>\n",
       "      <th>2024-02-22</th>\n",
       "      <td>False</td>\n",
       "      <td>False</td>\n",
       "      <td>False</td>\n",
       "      <td>False</td>\n",
       "      <td>False</td>\n",
       "    </tr>\n",
       "    <tr>\n",
       "      <th>2024-02-23</th>\n",
       "      <td>False</td>\n",
       "      <td>False</td>\n",
       "      <td>False</td>\n",
       "      <td>False</td>\n",
       "      <td>False</td>\n",
       "    </tr>\n",
       "    <tr>\n",
       "      <th>2024-02-24</th>\n",
       "      <td>False</td>\n",
       "      <td>False</td>\n",
       "      <td>False</td>\n",
       "      <td>False</td>\n",
       "      <td>False</td>\n",
       "    </tr>\n",
       "  </tbody>\n",
       "</table>\n",
       "</div>"
      ],
      "text/plain": [
       "                A      B      C      D      E\n",
       "2024-02-19  False  False  False  False  False\n",
       "2024-02-20  False  False  False  False  False\n",
       "2024-02-21  False  False  False  False  False\n",
       "2024-02-22  False  False  False  False  False\n",
       "2024-02-23  False  False  False  False  False\n",
       "2024-02-24  False  False  False  False  False"
      ]
     },
     "execution_count": 129,
     "metadata": {},
     "output_type": "execute_result"
    }
   ],
   "source": [
    "pd.isna(df)"
   ]
  },
  {
   "cell_type": "markdown",
   "metadata": {},
   "source": [
    "## Operações"
   ]
  },
  {
   "cell_type": "code",
   "execution_count": 134,
   "metadata": {},
   "outputs": [
    {
     "name": "stdout",
     "output_type": "stream",
     "text": [
      "Média de cada coluna\n"
     ]
    },
    {
     "data": {
      "text/plain": [
       "A   -0.301946\n",
       "B   -0.207584\n",
       "C    0.092092\n",
       "D    0.698257\n",
       "E    0.295900\n",
       "dtype: float64"
      ]
     },
     "metadata": {},
     "output_type": "display_data"
    },
    {
     "name": "stdout",
     "output_type": "stream",
     "text": [
      "Média de cada linha\n"
     ]
    },
    {
     "data": {
      "text/plain": [
       "2024-02-19    0.111356\n",
       "2024-02-20   -0.285609\n",
       "2024-02-21   -0.666706\n",
       "2024-02-22    0.401367\n",
       "2024-02-23    0.458681\n",
       "2024-02-24    0.672972\n",
       "Freq: D, dtype: float64"
      ]
     },
     "metadata": {},
     "output_type": "display_data"
    },
    {
     "name": "stdout",
     "output_type": "stream",
     "text": [
      "Média em uma coluna específica, \"A\"\n"
     ]
    },
    {
     "data": {
      "text/plain": [
       "-0.30194632038959357"
      ]
     },
     "metadata": {},
     "output_type": "display_data"
    }
   ],
   "source": [
    "print('Média de cada coluna')\n",
    "display(df.mean())\n",
    "\n",
    "print('Média de cada linha')\n",
    "display(df.mean(axis=1))\n",
    "\n",
    "print('Média em uma coluna específica, \"A\"')\n",
    "display(df['A'].mean())\n",
    "\n"
   ]
  },
  {
   "cell_type": "code",
   "execution_count": 143,
   "metadata": {},
   "outputs": [
    {
     "data": {
      "text/html": [
       "<div>\n",
       "<style scoped>\n",
       "    .dataframe tbody tr th:only-of-type {\n",
       "        vertical-align: middle;\n",
       "    }\n",
       "\n",
       "    .dataframe tbody tr th {\n",
       "        vertical-align: top;\n",
       "    }\n",
       "\n",
       "    .dataframe thead th {\n",
       "        text-align: right;\n",
       "    }\n",
       "</style>\n",
       "<table border=\"1\" class=\"dataframe\">\n",
       "  <thead>\n",
       "    <tr style=\"text-align: right;\">\n",
       "      <th></th>\n",
       "      <th>A</th>\n",
       "      <th>B</th>\n",
       "      <th>C</th>\n",
       "      <th>D</th>\n",
       "      <th>E</th>\n",
       "    </tr>\n",
       "  </thead>\n",
       "  <tbody>\n",
       "    <tr>\n",
       "      <th>2024-02-19</th>\n",
       "      <td>-0.080209</td>\n",
       "      <td>-0.319142</td>\n",
       "      <td>-0.171387</td>\n",
       "      <td>0.667153</td>\n",
       "      <td>0.460364</td>\n",
       "    </tr>\n",
       "    <tr>\n",
       "      <th>2024-02-20</th>\n",
       "      <td>-0.152605</td>\n",
       "      <td>0.236786</td>\n",
       "      <td>0.165279</td>\n",
       "      <td>-0.317727</td>\n",
       "      <td>-1.359780</td>\n",
       "    </tr>\n",
       "    <tr>\n",
       "      <th>2024-02-21</th>\n",
       "      <td>-1.088730</td>\n",
       "      <td>-0.399587</td>\n",
       "      <td>-1.369993</td>\n",
       "      <td>0.052073</td>\n",
       "      <td>-0.527293</td>\n",
       "    </tr>\n",
       "    <tr>\n",
       "      <th>2024-02-22</th>\n",
       "      <td>-1.046419</td>\n",
       "      <td>0.149291</td>\n",
       "      <td>1.214983</td>\n",
       "      <td>0.674852</td>\n",
       "      <td>1.014127</td>\n",
       "    </tr>\n",
       "    <tr>\n",
       "      <th>2024-02-23</th>\n",
       "      <td>0.615652</td>\n",
       "      <td>-0.346969</td>\n",
       "      <td>-0.123025</td>\n",
       "      <td>2.125909</td>\n",
       "      <td>0.021837</td>\n",
       "    </tr>\n",
       "    <tr>\n",
       "      <th>2024-02-24</th>\n",
       "      <td>-0.059367</td>\n",
       "      <td>-0.565885</td>\n",
       "      <td>0.836691</td>\n",
       "      <td>0.987279</td>\n",
       "      <td>2.166143</td>\n",
       "    </tr>\n",
       "  </tbody>\n",
       "</table>\n",
       "</div>"
      ],
      "text/plain": [
       "                   A         B         C         D         E\n",
       "2024-02-19 -0.080209 -0.319142 -0.171387  0.667153  0.460364\n",
       "2024-02-20 -0.152605  0.236786  0.165279 -0.317727 -1.359780\n",
       "2024-02-21 -1.088730 -0.399587 -1.369993  0.052073 -0.527293\n",
       "2024-02-22 -1.046419  0.149291  1.214983  0.674852  1.014127\n",
       "2024-02-23  0.615652 -0.346969 -0.123025  2.125909  0.021837\n",
       "2024-02-24 -0.059367 -0.565885  0.836691  0.987279  2.166143"
      ]
     },
     "metadata": {},
     "output_type": "display_data"
    },
    {
     "data": {
      "text/html": [
       "<div>\n",
       "<style scoped>\n",
       "    .dataframe tbody tr th:only-of-type {\n",
       "        vertical-align: middle;\n",
       "    }\n",
       "\n",
       "    .dataframe tbody tr th {\n",
       "        vertical-align: top;\n",
       "    }\n",
       "\n",
       "    .dataframe thead th {\n",
       "        text-align: right;\n",
       "    }\n",
       "</style>\n",
       "<table border=\"1\" class=\"dataframe\">\n",
       "  <thead>\n",
       "    <tr style=\"text-align: right;\">\n",
       "      <th></th>\n",
       "      <th>A</th>\n",
       "      <th>B</th>\n",
       "      <th>C</th>\n",
       "      <th>D</th>\n",
       "      <th>E</th>\n",
       "    </tr>\n",
       "  </thead>\n",
       "  <tbody>\n",
       "    <tr>\n",
       "      <th>2024-02-19</th>\n",
       "      <td>0.080209</td>\n",
       "      <td>0.319142</td>\n",
       "      <td>0.171387</td>\n",
       "      <td>0.667153</td>\n",
       "      <td>0.460364</td>\n",
       "    </tr>\n",
       "    <tr>\n",
       "      <th>2024-02-20</th>\n",
       "      <td>0.152605</td>\n",
       "      <td>0.236786</td>\n",
       "      <td>0.165279</td>\n",
       "      <td>0.317727</td>\n",
       "      <td>1.359780</td>\n",
       "    </tr>\n",
       "    <tr>\n",
       "      <th>2024-02-21</th>\n",
       "      <td>1.088730</td>\n",
       "      <td>0.399587</td>\n",
       "      <td>1.369993</td>\n",
       "      <td>0.052073</td>\n",
       "      <td>0.527293</td>\n",
       "    </tr>\n",
       "    <tr>\n",
       "      <th>2024-02-22</th>\n",
       "      <td>1.046419</td>\n",
       "      <td>0.149291</td>\n",
       "      <td>1.214983</td>\n",
       "      <td>0.674852</td>\n",
       "      <td>1.014127</td>\n",
       "    </tr>\n",
       "    <tr>\n",
       "      <th>2024-02-23</th>\n",
       "      <td>0.615652</td>\n",
       "      <td>0.346969</td>\n",
       "      <td>0.123025</td>\n",
       "      <td>2.125909</td>\n",
       "      <td>0.021837</td>\n",
       "    </tr>\n",
       "    <tr>\n",
       "      <th>2024-02-24</th>\n",
       "      <td>0.059367</td>\n",
       "      <td>0.565885</td>\n",
       "      <td>0.836691</td>\n",
       "      <td>0.987279</td>\n",
       "      <td>2.166143</td>\n",
       "    </tr>\n",
       "  </tbody>\n",
       "</table>\n",
       "</div>"
      ],
      "text/plain": [
       "                   A         B         C         D         E\n",
       "2024-02-19  0.080209  0.319142  0.171387  0.667153  0.460364\n",
       "2024-02-20  0.152605  0.236786  0.165279  0.317727  1.359780\n",
       "2024-02-21  1.088730  0.399587  1.369993  0.052073  0.527293\n",
       "2024-02-22  1.046419  0.149291  1.214983  0.674852  1.014127\n",
       "2024-02-23  0.615652  0.346969  0.123025  2.125909  0.021837\n",
       "2024-02-24  0.059367  0.565885  0.836691  0.987279  2.166143"
      ]
     },
     "metadata": {},
     "output_type": "display_data"
    }
   ],
   "source": [
    "display(df)\n",
    "\n",
    "display(df.transform(lambda x: abs(x)))"
   ]
  },
  {
   "cell_type": "code",
   "execution_count": 151,
   "metadata": {},
   "outputs": [
    {
     "data": {
      "text/plain": [
       "A\n",
       "-0.080209    1\n",
       "-0.152605    1\n",
       "-1.088730    1\n",
       "-1.046419    1\n",
       " 0.615652    1\n",
       "-0.059367    1\n",
       "Name: count, dtype: int64"
      ]
     },
     "metadata": {},
     "output_type": "display_data"
    },
    {
     "data": {
      "text/plain": [
       "-0.0802091975233623"
      ]
     },
     "metadata": {},
     "output_type": "display_data"
    },
    {
     "data": {
      "text/plain": [
       "-0.1526048072411058"
      ]
     },
     "metadata": {},
     "output_type": "display_data"
    },
    {
     "data": {
      "text/plain": [
       "-1.0887297949113017"
      ]
     },
     "metadata": {},
     "output_type": "display_data"
    },
    {
     "data": {
      "text/plain": [
       "-1.0464191207652336"
      ]
     },
     "metadata": {},
     "output_type": "display_data"
    },
    {
     "data": {
      "text/plain": [
       "0.6156517259969942"
      ]
     },
     "metadata": {},
     "output_type": "display_data"
    },
    {
     "data": {
      "text/plain": [
       "-0.05936672789355238"
      ]
     },
     "metadata": {},
     "output_type": "display_data"
    }
   ],
   "source": [
    "display(df[\"A\"].value_counts())\n",
    "\n",
    "for i in range(len(df)):\n",
    "    display(df[\"A\"].values[i])"
   ]
  },
  {
   "cell_type": "markdown",
   "metadata": {},
   "source": [
    "## Mesclando"
   ]
  },
  {
   "cell_type": "code",
   "execution_count": 155,
   "metadata": {},
   "outputs": [],
   "source": [
    "left = pd.DataFrame({\"key\": [\"foo\", \"foo\"], \"lval\": [1, 2]})\n",
    "right = pd.DataFrame({\"key\": [\"foo\", \"foo\"], \"rval\": [4, 5]})\n",
    "\n",
    "left2 = pd.DataFrame({\"key\": [\"foo\", \"bar\"], \"lval\": [1, 2]})\n",
    "right2 = pd.DataFrame({\"key\": [\"foo\", \"bar\"], \"rval\": [4, 5]})"
   ]
  },
  {
   "cell_type": "code",
   "execution_count": 156,
   "metadata": {},
   "outputs": [
    {
     "name": "stdout",
     "output_type": "stream",
     "text": [
      "Por chaves identicas\n"
     ]
    },
    {
     "data": {
      "text/html": [
       "<div>\n",
       "<style scoped>\n",
       "    .dataframe tbody tr th:only-of-type {\n",
       "        vertical-align: middle;\n",
       "    }\n",
       "\n",
       "    .dataframe tbody tr th {\n",
       "        vertical-align: top;\n",
       "    }\n",
       "\n",
       "    .dataframe thead th {\n",
       "        text-align: right;\n",
       "    }\n",
       "</style>\n",
       "<table border=\"1\" class=\"dataframe\">\n",
       "  <thead>\n",
       "    <tr style=\"text-align: right;\">\n",
       "      <th></th>\n",
       "      <th>key</th>\n",
       "      <th>lval</th>\n",
       "      <th>rval</th>\n",
       "    </tr>\n",
       "  </thead>\n",
       "  <tbody>\n",
       "    <tr>\n",
       "      <th>0</th>\n",
       "      <td>foo</td>\n",
       "      <td>1</td>\n",
       "      <td>4</td>\n",
       "    </tr>\n",
       "    <tr>\n",
       "      <th>1</th>\n",
       "      <td>foo</td>\n",
       "      <td>1</td>\n",
       "      <td>5</td>\n",
       "    </tr>\n",
       "    <tr>\n",
       "      <th>2</th>\n",
       "      <td>foo</td>\n",
       "      <td>2</td>\n",
       "      <td>4</td>\n",
       "    </tr>\n",
       "    <tr>\n",
       "      <th>3</th>\n",
       "      <td>foo</td>\n",
       "      <td>2</td>\n",
       "      <td>5</td>\n",
       "    </tr>\n",
       "  </tbody>\n",
       "</table>\n",
       "</div>"
      ],
      "text/plain": [
       "   key  lval  rval\n",
       "0  foo     1     4\n",
       "1  foo     1     5\n",
       "2  foo     2     4\n",
       "3  foo     2     5"
      ]
     },
     "metadata": {},
     "output_type": "display_data"
    },
    {
     "name": "stdout",
     "output_type": "stream",
     "text": [
      "Por chaves exclusivas\n"
     ]
    },
    {
     "data": {
      "text/html": [
       "<div>\n",
       "<style scoped>\n",
       "    .dataframe tbody tr th:only-of-type {\n",
       "        vertical-align: middle;\n",
       "    }\n",
       "\n",
       "    .dataframe tbody tr th {\n",
       "        vertical-align: top;\n",
       "    }\n",
       "\n",
       "    .dataframe thead th {\n",
       "        text-align: right;\n",
       "    }\n",
       "</style>\n",
       "<table border=\"1\" class=\"dataframe\">\n",
       "  <thead>\n",
       "    <tr style=\"text-align: right;\">\n",
       "      <th></th>\n",
       "      <th>key</th>\n",
       "      <th>lval</th>\n",
       "      <th>rval</th>\n",
       "    </tr>\n",
       "  </thead>\n",
       "  <tbody>\n",
       "    <tr>\n",
       "      <th>0</th>\n",
       "      <td>foo</td>\n",
       "      <td>1</td>\n",
       "      <td>4</td>\n",
       "    </tr>\n",
       "    <tr>\n",
       "      <th>1</th>\n",
       "      <td>bar</td>\n",
       "      <td>2</td>\n",
       "      <td>5</td>\n",
       "    </tr>\n",
       "  </tbody>\n",
       "</table>\n",
       "</div>"
      ],
      "text/plain": [
       "   key  lval  rval\n",
       "0  foo     1     4\n",
       "1  bar     2     5"
      ]
     },
     "metadata": {},
     "output_type": "display_data"
    }
   ],
   "source": [
    "print('Por chaves identicas')\n",
    "display(pd.merge(left, right, on=\"key\"))\n",
    "\n",
    "print('Por chaves exclusivas')\n",
    "display(pd.merge(left2, right2, on=\"key\"))"
   ]
  }
 ],
 "metadata": {
  "kernelspec": {
   "display_name": "Python 3",
   "language": "python",
   "name": "python3"
  },
  "language_info": {
   "codemirror_mode": {
    "name": "ipython",
    "version": 3
   },
   "file_extension": ".py",
   "mimetype": "text/x-python",
   "name": "python",
   "nbconvert_exporter": "python",
   "pygments_lexer": "ipython3",
   "version": "3.11.7"
  }
 },
 "nbformat": 4,
 "nbformat_minor": 2
}
