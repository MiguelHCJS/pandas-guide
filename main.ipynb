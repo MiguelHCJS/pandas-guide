{
 "cells": [
  {
   "cell_type": "code",
   "execution_count": 1,
   "metadata": {},
   "outputs": [
    {
     "name": "stderr",
     "output_type": "stream",
     "text": [
      "/tmp/ipykernel_9159/4080736814.py:1: DeprecationWarning: \n",
      "Pyarrow will become a required dependency of pandas in the next major release of pandas (pandas 3.0),\n",
      "(to allow more performant data types, such as the Arrow string type, and better interoperability with other libraries)\n",
      "but was not found to be installed on your system.\n",
      "If this would cause problems for you,\n",
      "please provide us feedback at https://github.com/pandas-dev/pandas/issues/54466\n",
      "        \n",
      "  import pandas as pd\n"
     ]
    }
   ],
   "source": [
    "import pandas as pd"
   ]
  },
  {
   "cell_type": "code",
   "execution_count": 2,
   "metadata": {},
   "outputs": [],
   "source": [
    "df = pd.read_excel('./database/dados_de_jogadores.xlsx')"
   ]
  },
  {
   "cell_type": "markdown",
   "metadata": {},
   "source": [
    "# Mantendo os valores únicos"
   ]
  },
  {
   "cell_type": "code",
   "execution_count": null,
   "metadata": {},
   "outputs": [],
   "source": [
    "raca = df['Raça'].unique()\n",
    "TBL_RACAS = pd.DataFrame(\n",
    "    [\n",
    "        (id, racas)\n",
    "        for id, racas in enumerate(raca)\n",
    "    ],\n",
    "    columns=['id_raca', 'raca']\n",
    ")\n",
    "TBL_RACAS.to_excel('./database/TBL_RACAS.xlsx', index=False)"
   ]
  },
  {
   "cell_type": "code",
   "execution_count": null,
   "metadata": {},
   "outputs": [],
   "source": [
    "classe = df['Classe'].unique()\n",
    "TBL_CLASSES = pd.DataFrame(\n",
    "    [\n",
    "        (id, classes)\n",
    "        for id, classes in enumerate(classe)\n",
    "    ],\n",
    "    columns=['id_classe', 'classe']\n",
    ")\n",
    "TBL_CLASSES.to_excel('./database/TBL_CLASSES.xlsx', index=False)"
   ]
  },
  {
   "cell_type": "markdown",
   "metadata": {},
   "source": [
    "# Dicionários para substituir nome por ID"
   ]
  },
  {
   "cell_type": "code",
   "execution_count": null,
   "metadata": {},
   "outputs": [],
   "source": [
    "dicionario_racas = {}\n",
    "for id, raca in TBL_RACAS.itertuples(index=False):\n",
    "    if raca not in dicionario_racas:\n",
    "        dicionario_racas[raca] = id+1\n",
    "df['Raça'] = df['Raça'].map(dicionario_racas)"
   ]
  },
  {
   "cell_type": "code",
   "execution_count": null,
   "metadata": {},
   "outputs": [],
   "source": [
    "dicionario_classes = {}\n",
    "for id, classe in TBL_CLASSES.itertuples(index=False):\n",
    "    if classe not in dicionario_classes:\n",
    "        dicionario_classes[classe] = id+1\n",
    "df['Classe'] = df['Classe'].map(dicionario_classes)"
   ]
  },
  {
   "cell_type": "code",
   "execution_count": null,
   "metadata": {},
   "outputs": [],
   "source": [
    "df.to_excel('./database/TBL_JOGADOR.xlsx', index=False)"
   ]
  }
 ],
 "metadata": {
  "kernelspec": {
   "display_name": "pandas-guide",
   "language": "python",
   "name": "python3"
  },
  "language_info": {
   "codemirror_mode": {
    "name": "ipython",
    "version": 3
   },
   "file_extension": ".py",
   "mimetype": "text/x-python",
   "name": "python",
   "nbconvert_exporter": "python",
   "pygments_lexer": "ipython3",
   "version": "3.10.13"
  }
 },
 "nbformat": 4,
 "nbformat_minor": 2
}
